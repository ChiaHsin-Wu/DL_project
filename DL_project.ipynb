{
  "nbformat": 4,
  "nbformat_minor": 0,
  "metadata": {
    "colab": {
      "provenance": [],
      "gpuType": "T4"
    },
    "kernelspec": {
      "name": "python3",
      "display_name": "Python 3"
    },
    "language_info": {
      "name": "python"
    },
    "accelerator": "GPU"
  },
  "cells": [
    {
      "cell_type": "code",
      "source": [
        "from google.colab import drive\n",
        "drive.mount('/content/drive')"
      ],
      "metadata": {
        "id": "2steg3mUpayM"
      },
      "execution_count": null,
      "outputs": []
    },
    {
      "cell_type": "code",
      "execution_count": null,
      "metadata": {
        "id": "KLsetN4mIEDT",
        "collapsed": true
      },
      "outputs": [],
      "source": [
        "!pip install kaggle\n",
        "!pip install fasttext"
      ]
    },
    {
      "cell_type": "code",
      "source": [
        "!mkdir -p ~/.kaggle\n",
        "!cp '/content/drive/MyDrive/Colab Notebooks/kaggle.json' ~/.kaggle/\n",
        "!chmod 600 ~/.kaggle/kaggle.json\n",
        "!kaggle datasets download nadyinky/sephora-products-and-skincare-reviews\n",
        "!unzip '/content/sephora-products-and-skincare-reviews.zip'"
      ],
      "metadata": {
        "id": "iHLRG256l0lo",
        "collapsed": true
      },
      "execution_count": null,
      "outputs": []
    },
    {
      "cell_type": "code",
      "source": [
        "import os, shutil\n",
        "import pandas as pd"
      ],
      "metadata": {
        "id": "26saHyW_nWjX"
      },
      "execution_count": null,
      "outputs": []
    },
    {
      "cell_type": "code",
      "source": [
        "product_info = pd.read_csv('product_info.csv', sep=',')\n",
        "print('original shape = ', product_info.shape)\n",
        "keep_cols = [\n",
        "  'product_id', 'product_name', 'ingredients', 'highlights',\n",
        "  'primary_category', 'secondary_category', 'tertiary_category'\n",
        "]\n",
        "product_info = product_info[keep_cols]\n",
        "required_cols = ['product_id', 'product_name', 'ingredients', 'highlights']\n",
        "product_info = product_info.dropna(subset=required_cols)\n",
        "product_info.drop_duplicates(subset='product_id', inplace=True)\n",
        "print('cleaned shape = ', product_info.shape)"
      ],
      "metadata": {
        "colab": {
          "base_uri": "https://localhost:8080/"
        },
        "id": "GyYWn0dWDTNH",
        "outputId": "57bb4228-4a25-49d6-d3bb-10411815d6ca"
      },
      "execution_count": null,
      "outputs": [
        {
          "output_type": "stream",
          "name": "stdout",
          "text": [
            "original shape =  (8494, 27)\n",
            "cleaned shape =  (5820, 7)\n"
          ]
        }
      ]
    },
    {
      "cell_type": "code",
      "source": [
        "def clean_review_file(path, name):\n",
        "  df = pd.read_csv(path, usecols=lambda col: col in columns_to_keep)\n",
        "  print(f\"{name}: original shape = {df.shape}\")\n",
        "  df = df.dropna()\n",
        "  df['is_recommended'] = df['is_recommended'].astype(int)\n",
        "  return df\n",
        "\n",
        "columns_to_keep = ['is_recommended', 'review_text', 'product_id']\n",
        "review_paths = {\n",
        "  '0-250': 'reviews_0-250.csv',\n",
        "  '250-500': 'reviews_250-500.csv',\n",
        "  '500-750': 'reviews_500-750.csv',\n",
        "  '750-1250': 'reviews_750-1250.csv',\n",
        "  '1250-end': 'reviews_1250-end.csv'\n",
        "}\n",
        "\n",
        "cleaned_reviews = {}\n",
        "for name, path in review_paths.items():\n",
        "  df = clean_review_file(path, name)\n",
        "  cleaned_reviews[name] = df\n",
        "  print(f\"{name}: cleaned shape = {df.shape}\")\n",
        "\n",
        "all_reviews_df = pd.concat(cleaned_reviews.values(), ignore_index=True)\n",
        "positive_reviews = all_reviews_df[all_reviews_df['is_recommended'] == 1].copy()\n",
        "negative_reviews = all_reviews_df[all_reviews_df['is_recommended'] == 0].copy()\n",
        "print('positive reviews shape = ', positive_reviews.shape)\n",
        "print('negative reviews shape = ', negative_reviews.shape)"
      ],
      "metadata": {
        "colab": {
          "base_uri": "https://localhost:8080/"
        },
        "id": "_2V5B2pJ_CEy",
        "outputId": "1fe8ae6e-4c3e-4e02-aeeb-8fe1b3dc9b8a"
      },
      "execution_count": null,
      "outputs": [
        {
          "output_type": "stream",
          "name": "stdout",
          "text": [
            "0-250: original shape = (602130, 3)\n",
            "0-250: cleaned shape = (483645, 3)\n",
            "250-500: original shape = (206725, 3)\n",
            "250-500: cleaned shape = (180567, 3)\n",
            "500-750: original shape = (116262, 3)\n",
            "500-750: cleaned shape = (104334, 3)\n",
            "750-1250: original shape = (119317, 3)\n",
            "750-1250: cleaned shape = (110332, 3)\n",
            "1250-end: original shape = (49977, 3)\n",
            "1250-end: cleaned shape = (46101, 3)\n",
            "positive reviews shape =  (776965, 3)\n",
            "negative reviews shape =  (148014, 3)\n"
          ]
        }
      ]
    },
    {
      "cell_type": "code",
      "source": [
        "from sklearn.cluster import KMeans\n",
        "from sklearn.feature_extraction.text import TfidfVectorizer\n",
        "from sklearn.preprocessing import MultiLabelBinarizer\n",
        "from sklearn.metrics import classification_report, f1_score\n",
        "from sklearn.utils import shuffle\n",
        "from transformers import BertTokenizer, BertModel\n",
        "from tensorflow.keras.metrics import AUC\n",
        "from tensorflow.keras.preprocessing.text import Tokenizer\n",
        "from tensorflow.keras.preprocessing.sequence import pad_sequences\n",
        "from sentence_transformers import SentenceTransformer\n",
        "from keras.metrics import Precision, Recall, BinaryAccuracy\n",
        "from keras.models import Sequential\n",
        "from keras.layers import Embedding, Flatten, Dense, Input, SimpleRNN, Dropout\n",
        "from keras.optimizers import RMSprop\n",
        "from keras import layers, regularizers\n",
        "from nltk.stem import PorterStemmer\n",
        "from collections import Counter\n",
        "import torch\n",
        "import numpy as np\n",
        "import re\n",
        "import matplotlib.pyplot as plt\n",
        "import fasttext\n",
        "import ast"
      ],
      "metadata": {
        "id": "wW5IFcvWaCkF"
      },
      "execution_count": null,
      "outputs": []
    },
    {
      "cell_type": "code",
      "source": [
        "def extract_top_terms_by_cluster(\n",
        "    texts, top_n=300, n_clusters=10, max_features=1000, min_df=5,\n",
        "    max_df=0.7, stop_words='english', ngram_range=(1, 2), model_name='all-MiniLM-L6-v2'):\n",
        "\n",
        "  # 1. TF-IDF 向量化\n",
        "  vectorizer = TfidfVectorizer(\n",
        "    stop_words=stop_words,\n",
        "    max_df=max_df,\n",
        "    min_df=min_df,\n",
        "    max_features=max_features,\n",
        "    ngram_range=ngram_range\n",
        "  )\n",
        "  X = vectorizer.fit_transform(texts)\n",
        "  feature_names = vectorizer.get_feature_names_out()\n",
        "\n",
        "  # 2. 取出前 top_n 高分詞\n",
        "  tfidf_scores = X.sum(axis=0).A1\n",
        "  sorted_items = sorted(zip(tfidf_scores, feature_names), reverse=True)\n",
        "  top_terms = [word for _, word in sorted_items[:top_n]]\n",
        "\n",
        "  # 3. BERT 向量\n",
        "  model = SentenceTransformer(model_name)\n",
        "  embeddings = model.encode(top_terms)\n",
        "\n",
        "  # 4. KMeans 聚類\n",
        "  kmeans = KMeans(n_clusters=n_clusters, random_state=42)\n",
        "  labels = kmeans.fit_predict(embeddings)\n",
        "\n",
        "  # 5. 整理群組關鍵詞\n",
        "  clusters = {}\n",
        "  for idx, label in enumerate(labels):\n",
        "    clusters.setdefault(label, []).append(top_terms[idx])\n",
        "\n",
        "  return clusters"
      ],
      "metadata": {
        "id": "Fc6RD-OFZC9k"
      },
      "execution_count": null,
      "outputs": []
    },
    {
      "cell_type": "code",
      "source": [
        "positive_clusters = extract_top_terms_by_cluster(positive_reviews['review_text'])\n",
        "negative_clusters = extract_top_terms_by_cluster(negative_reviews['review_text'])"
      ],
      "metadata": {
        "id": "Rl-cKbcQZSlA"
      },
      "execution_count": null,
      "outputs": []
    },
    {
      "cell_type": "code",
      "source": [
        "for cid, words in positive_clusters.items():\n",
        "  print(f\"[Positive Cluster {cid}], keywords: {words}\")\n",
        "\n",
        "for cid, words in negative_clusters.items():\n",
        "  print(f\"[Negative Cluster {cid}], keywords: {words}\")"
      ],
      "metadata": {
        "colab": {
          "base_uri": "https://localhost:8080/"
        },
        "id": "MnLLSBkIEB-S",
        "outputId": "c25076cb-c3a9-487b-d5d6-e7a544654cb4"
      },
      "execution_count": null,
      "outputs": [
        {
          "output_type": "stream",
          "name": "stdout",
          "text": [
            "[Positive Cluster 2], keywords: ['skin', 'face', 'moisturizer', 'cream', 'makeup', 'serum', 'acne', 'dry skin', 'sensitive skin', 'lips', 'sunscreen', 'skincare', 'moisturizing', 'skin feels', 'makes skin', 'leaves skin', 'skin feel', 'skin feeling', 'lip', 'toner', 'eye cream', 'oily skin', 'breakouts', 'skin looks', 'retinol', 'combination skin', 'acne prone', 'skin soft', 'facial', 'sephora', 'skin care', 'skin felt', 'skincare routine', 'difference skin', 'wrinkles']\n",
            "[Positive Cluster 8], keywords: ['product', 'use', 'using', 'used', 'received', 'products', 'free', 'results', 'price', 'sample', 'need', 'received product', 'worth', 'buy', 've using', 'sure', 'using product', 've used', 'purchase', 'bought', 'brand', 'formula', 'want', 'application', 'product free', 'area', 'product complimentary', 'getting', 'refreshed', 'purposes', 'expensive', 'buying', 'combo', 'applied', 'extra']\n",
            "[Positive Cluster 4], keywords: ['love', 'great', 'amazing', 'good', 'recommend', 'nice', 'super', 'best', 'perfect', 'love product', 'better', 'highly recommend', 'loved', 'favorite', 'absolutely love', 'definitely recommend', 'happy', 'beautiful', 'great product', 'liked', 'wish', 'recommend product', 'wonderful']\n",
            "[Positive Cluster 9], keywords: ['like', 've', 'just', 'little', 'long', 'bit', 'absolutely', 'weeks', 'highly', 'lot', 'stuff', 'far', 'long way', 'pretty', 'goes long', 'fine', 'overall', 'feel like', 'years', 'really like', 'easily', 'thing', 'haven', 'usually', 'huge', 'bad', 'different', 'extremely', 'big', 'quite']\n",
            "[Positive Cluster 3], keywords: ['really', 'definitely', 'doesn', 'does', 'don', 'way', 'looks', 'think', 'actually', 'right', 'honest', 'especially', 'know', 'isn', 'completely', 'tell', 'honestly', 'plus', 'nicely']\n",
            "[Positive Cluster 7], keywords: ['feel', 'feels', 'day', 'smooth', 'feeling', 'sensitive', 'time', 'makes', 'difference', 'make', 'morning', 'clean', 'routine', 'goes', 'week', 'apply', 'complimentary', 'influenster', 'gentle', 'days', 'review', 'easy', 'fresh', 'new', 'say', 'lines', 'quickly', 'work', 'sticky', 'daily', 'winter', 'break', 'months', 'going', 'little goes', 'care', 'prone', 'consistency', 'wear', 'notice', 'smoother', 'applying', 'fine lines', 'times', 'job', 'natural', 'summer', 'refreshing', 'love love', 'couple', 'excited', 'primer', 'effective', 'month', 'honest review', 'irritate', 'testing', 'fan', 'seen', 'healthy', 'takes', 'comes', 'everyday', 'treatment', 'immediately', 'life', 'overnight']\n",
            "[Positive Cluster 5], keywords: ['dry', 'oily', 'smell', 'cleanser', 'texture', 'hydrated', 'scent', 'smells', 'leaves', 'hydrating', 'oil', 'pores', 'greasy', 'bottle', 'packaging', 'absorbs', 'balm', 'moisturized', 'wash', 'spots', 'ingredients', 'cleansing', 'moisture', 'hydration', 'water', 'fragrance', 'clear', 'gel', 'plump', 'vitamin', 'acid', 'drying', 'creamy', 'dewy']\n",
            "[Positive Cluster 1], keywords: ['soft', 'night', 'eye', 'mask', 'light', 'eyes', 'glow', 'felt', 'size', 'lightweight', 'dark', 'gifted', 'heavy', 'redness', 'small', '10', 'spf', 'brighter', 'foundation', 'glowing', 'strong', 'wake', 'glowy', 'tone', 'color', 'white', 'use night']\n",
            "[Positive Cluster 0], keywords: ['works', 'try', 'tried', 'look', 'did', 'didn', 'noticed', 'got', 'looking', 'helped', 'helps', 'gives', 'started', 'help', 'trying', 've tried', 'worked', 'looked', 'gets', 'wasn']\n",
            "[Positive Cluster 6], keywords: ['leave', 'left', 'combination', 'away', 'll', 'continue', 'keeps', 'exchange', 'doesn leave', 'gone']\n",
            "[Negative Cluster 9], keywords: ['skin', 'acne', 'sensitive skin', 'dry skin', 'pores', 'oily skin', 'prone', 'skincare', 'pimples', 'bumps', 'acne prone', 'difference skin', 'skin feel', 'combination skin', 'prone skin']\n",
            "[Negative Cluster 7], keywords: ['product', 'use', 'using', 'used', 've', 'price', 'products', 'worth', 'sample', 'received', 'super', 'results', 'buy', 'bought', 'free', 'formula', 'purchase', 'review', 'apply', 'return', 'using product', 'influenster', 'applied', 'applying', 'repurchase', 'remove', 'returning', 've used', 'received product', 'application', 'getting', 'love product', 'area', 've using', 'returned', 'purchased', 'buying', 'worth price', 'effect', 'residue']\n",
            "[Negative Cluster 6], keywords: ['like', 'really', 'just', 'don', 'good', 'does', 'doesn', 'better', 'think', 'bad', 'recommend', 'way', 'definitely', 'disappointed', 'reviews', 'unfortunately', 'lot', 'pretty', 'say', 'wouldn', 'maybe', 'thought', 'actually', 'know', 'isn', 'expensive', 'honestly', 'different', 'hard', 'haven', 'normal', 'absolutely', 'probably', 'worse', 'don think', 'point', 'horrible', 'extremely', 'terrible', 'overall', 'looks', 'waste money', 'wish', 'hype', 'right', 'especially', 'kind', 'usually', 'quite', 'worst', 'awful', 'instead', 'hoping', 'best', 'honest', 'literally', 'completely', 'far', 'cause']\n",
            "[Negative Cluster 3], keywords: ['face', 'makeup', 'eyes', 'eye', 'lips', 'mask', 'lip', 'breakouts', 'breakout', 'routine', 'toner', 'eye cream', 'spots', 'lines', 'patches', 'cheeks', 'forehead', 'stick']\n",
            "[Negative Cluster 2], keywords: ['didn', 'did', 'work', 'wanted', 'try', 'tried', 'got', 'broke', 'sure', 'left', 'bit', 'look', 'wasn', 'wanted love', 'works', 'started', 'going', 'gave', 'won', 'help', 'fine', 'looking', 'll', 'really wanted', 'okay', 'need', 'ok', 'want', 'change', 'trying', 'job', 'leave', 'excited try', 'went', 'looked', 'wanted like', 'didn work', 'couldn', 'goes', 'stopped', 'worked', 'stuff', 'prefer', 'took', 'ended']\n",
            "[Negative Cluster 5], keywords: ['dry', 'cream', 'moisturizer', 'oily', 'cleanser', 'texture', 'oil', 'serum', 'bottle', 'sticky', 'greasy', 'moisturizing', 'hydrating', 'sunscreen', 'clean', 'ingredients', 'balm', 'wash', 'water', 'consistency', 'dried', 'drying', 'smooth', 'soft', 'moisture', 'cleansing', 'absorb', 'hydration', 'hydrated', 'clear', 'gel', 'vitamin', 'pump']\n",
            "[Negative Cluster 8], keywords: ['love', 'feel', 'sensitive', 'felt', 'feels', 'feeling', 'feel like', 'excited', 'loved', 'felt like', 'irritated', 'feels like', 'care']\n",
            "[Negative Cluster 1], keywords: ['smell', 'smells', 'money', 'make', 'scent', 'packaging', 'makes', 'red', 'leaves', 'size', 'fragrance', 'strong', 'dark', 'small', 'light', 'fan', 'waste', 'heavy', 'brand', 'people', 'high', 'sephora', 'white', 'glow', 'stars', 'combination', 'redness', 'smells like', 'couple', 'color', 'special', 'like product', 'wear', 'putting', 'combo', 'spf', 'foundation', 'complimentary']\n",
            "[Negative Cluster 4], keywords: ['nice', 'great', 'notice', 'noticed', 'new', 'caused', 'amazing', 'saw', 'liked', 'weird', 'didn notice', 'seen', 'notice difference', 'improvement']\n",
            "[Negative Cluster 0], keywords: ['difference', 'time', 'little', 'day', 'break', 'weeks', 'days', 'night', 'week', 'long', 'months', 'morning', 'times', 'away', 'thing', 'month', 'big', 'huge', 'immediately', 'half', 'quickly', 'old', 'minutes', 'hours', 'years']\n"
          ]
        }
      ]
    },
    {
      "cell_type": "code",
      "source": [
        "cluster_id_to_name_pos = {\n",
        "  0: \"Texture & Radiant Skin\",\n",
        "  1: \"Moisturizing & Gentle\",\n",
        "  2: \"Strong Recommendation\"\n",
        "}\n",
        "\n",
        "keyword_to_tag_pos = {\n",
        "  # Cluster 0 – Texture & Radiant Skin\n",
        "  \"soft\": 0,\n",
        "  \"glow\": 0,\n",
        "  \"brighter\": 0,\n",
        "  \"radiant\": 0,\n",
        "  \"tone\": 0,\n",
        "  \"even skin\": 0,\n",
        "  \"smooth\": 0,\n",
        "  \"plump\": 0,\n",
        "  \"dewy\": 0,\n",
        "\n",
        "  # Cluster 1 – Moisturizing & Gentle\n",
        "  \"moisturize\": 1,\n",
        "  \"hydrate\": 1,\n",
        "  \"gentle\": 1,\n",
        "  \"soothing\": 1,\n",
        "  \"sensitive skin\": 1,\n",
        "  \"acne prone\": 1,\n",
        "  \"combination skin\": 1,\n",
        "  \"non irritating\": 1,\n",
        "  \"absorbs\": 1,\n",
        "  \"non greasy\": 1,\n",
        "  \"lightweight\": 1,\n",
        "  'dry': 1,\n",
        "\n",
        "  # Cluster 2 – Strong Recommendation\n",
        "  \"love\": 2,\n",
        "  \"recommend\": 2,\n",
        "  \"favorite\": 2,\n",
        "  \"best\": 2,\n",
        "  \"wonderful\": 2\n",
        "}\n",
        "\n",
        "cluster_id_to_name_neg = {\n",
        "  0: \"No Visible Change\",\n",
        "  1: \"Scent\",\n",
        "  2: \"Ineffectiveness\",\n",
        "  3: \"Specific Area or Routine Issues\",\n",
        "  4: \"Texture and Hydration Problems\",\n",
        "  5: \"Skin Type Sensitivity\"\n",
        "}\n",
        "\n",
        "keyword_to_tag_neg = {\n",
        "  # Cluster 0 – No Visible Change\n",
        "  \"no difference\": 0,\n",
        "  \"time\": 0,\n",
        "  \"little\": 0,\n",
        "  \"long\": 0,\n",
        "\n",
        "  # Cluster 1 – Scent\n",
        "  \"smell\": 1,\n",
        "  \"scent\": 1,\n",
        "  \"fragrance\": 1,\n",
        "  \"strong\": 1,\n",
        "  \"packaging\": 1,\n",
        "  \"waste\": 1,\n",
        "  \"money\": 1,\n",
        "  \"heavy\": 1,\n",
        "  \"light\": 1,\n",
        "  \"brand\": 1,\n",
        "  \"complimentary\": 1,\n",
        "\n",
        "  # Cluster 2 – Ineffectiveness\n",
        "  \"didn work\": 2,\n",
        "  \"didn’t help\": 2,\n",
        "  \"tried\": 2,\n",
        "  \"stopped\": 2,\n",
        "\n",
        "  # Cluster 3 – Specific Area or Routine Issues\n",
        "  \"eye\": 3,\n",
        "  \"face\": 3,\n",
        "  \"makeup\": 3,\n",
        "  \"mask\": 3,\n",
        "  \"routine\": 3,\n",
        "  \"spots\": 3,\n",
        "  \"cheeks\": 3,\n",
        "  \"forehead\": 3,\n",
        "  \"breakout\": 3,\n",
        "  \"lips\": 3,\n",
        "\n",
        "  # Cluster 4 – Texture and Hydration Problems\n",
        "  \"dry\": 4,\n",
        "  \"sticky\": 4,\n",
        "  \"greasy\": 4,\n",
        "  \"moisturizer\": 4,\n",
        "  \"texture\": 4,\n",
        "  \"hydrating\": 4,\n",
        "  \"hydration\": 4,\n",
        "  \"oil\": 4,\n",
        "  \"cream\": 4,\n",
        "  \"dried\": 4,\n",
        "  \"balm\": 4,\n",
        "  \"watery\": 4,\n",
        "  \"serum\": 4,\n",
        "\n",
        "  # Cluster 5 – Skin Type Sensitivity\n",
        "  \"acne\": 5,\n",
        "  \"pimples\": 5,\n",
        "  \"bumps\": 5,\n",
        "  \"sensitive skin\": 5,\n",
        "  \"dry skin\": 5,\n",
        "  \"oily skin\": 5,\n",
        "  \"acne prone\": 5\n",
        "}"
      ],
      "metadata": {
        "id": "V0IqWpQeqMsk"
      },
      "execution_count": null,
      "outputs": []
    },
    {
      "cell_type": "code",
      "source": [
        "stemmer = PorterStemmer()\n",
        "# 建立詞幹對照字典\n",
        "def build_stemmed_keyword_map(keyword_to_tag):\n",
        "  stemmed_map = {}\n",
        "  for phrase, tag in keyword_to_tag.items():\n",
        "    words = phrase.lower().split()\n",
        "    stemmed_phrase = \" \".join(stemmer.stem(word) for word in words)\n",
        "    stemmed_map[stemmed_phrase] = tag\n",
        "  return stemmed_map\n",
        "\n",
        "# 標記函數（詞幹比對版本）\n",
        "def classify_review_tags_with_stemming(text, stemmed_keyword_to_tag):\n",
        "  if not isinstance(text, str) or text.strip() == \"\":\n",
        "    return []\n",
        "  text = text.lower()\n",
        "  words = re.findall(r'\\b\\w+\\b', text)\n",
        "  stemmed_words = [stemmer.stem(w) for w in words]\n",
        "  joined_text = \" \".join(stemmed_words)\n",
        "\n",
        "  tags = set()\n",
        "  for stemmed_phrase, tag in stemmed_keyword_to_tag.items():\n",
        "    if stemmed_phrase in joined_text:\n",
        "      tags.add(tag)\n",
        "  return list(tags)\n",
        "\n",
        "# 合併所有標籤並計算頻率\n",
        "def top_k_labels(tag_lists, k, min_freq):\n",
        "  all_labels = [label for tags in tag_lists for label in tags]\n",
        "  counts = Counter(all_labels)\n",
        "  total = len(all_labels)\n",
        "  freq = {label: count / total for label, count in counts.items()}\n",
        "  selected = [label for label, f in sorted(freq.items(), key=lambda x: x[1], reverse=True) if f >= min_freq][:k]\n",
        "  return selected"
      ],
      "metadata": {
        "id": "-qoVY0Pt5WGx"
      },
      "execution_count": null,
      "outputs": []
    },
    {
      "cell_type": "code",
      "source": [
        "stemmed_keyword_to_tag_pos = build_stemmed_keyword_map(keyword_to_tag_pos)\n",
        "positive_reviews[\"pos_tags\"] = positive_reviews[\"review_text\"].apply(\n",
        "  lambda text: classify_review_tags_with_stemming(text, stemmed_keyword_to_tag_pos)\n",
        ")\n",
        "positive_reviews['pos_tags'] = positive_reviews['pos_tags'].apply(\n",
        "  lambda x: ast.literal_eval(x) if isinstance(x, str) else x\n",
        ")\n",
        "df_pos_groupby = positive_reviews.groupby('product_id')['pos_tags'].apply(\n",
        "  lambda lists: top_k_labels(lists, k=2, min_freq=0.2)\n",
        ").reset_index()\n",
        "df_pos_groupby = df_pos_groupby[df_pos_groupby['pos_tags'].apply(lambda x: len(x) > 0)].reset_index(drop=True)\n",
        "df_pos = df_pos_groupby.merge(product_info, on='product_id', how='inner')\n",
        "df_pos.to_csv('/content/drive/MyDrive/Colab Notebooks/dataset_final/df_pos.csv', index=False)\n",
        "\n",
        "lengths = df_pos['pos_tags'].apply(len)\n",
        "print('平均主題數:', lengths.mean())\n",
        "print('正面回饋資料數: ', df_pos.shape)\n",
        "df_pos.head()"
      ],
      "metadata": {
        "id": "7IOSczzcCqLc",
        "colab": {
          "base_uri": "https://localhost:8080/",
          "height": 328
        },
        "outputId": "5d7392ff-3088-4969-9d60-38ff5a4eb246"
      },
      "execution_count": null,
      "outputs": [
        {
          "output_type": "stream",
          "name": "stdout",
          "text": [
            "平均主題數: 1.9698438341410878\n",
            "正面回饋資料數:  (1857, 8)\n"
          ]
        },
        {
          "output_type": "execute_result",
          "data": {
            "text/plain": [
              "  product_id pos_tags                                  product_name  \\\n",
              "0    P114902   [2, 1]  Goodbye Acne  Max Complexion Correction Pads   \n",
              "1     P12045   [1, 2]            Grape Water Moisturizing Face Mist   \n",
              "2    P122718   [2, 1]                        Exfoliating Face Scrub   \n",
              "3    P122762   [2, 1]                    Rinse-Off Foaming Cleanser   \n",
              "4    P122774   [1, 2]                      All About Eyes Eye Cream   \n",
              "\n",
              "                                         ingredients  \\\n",
              "0  ['Salicylic Acid 2%, Alcohol Denat., Water/Aqu...   \n",
              "1  ['Vitis Vinifera (Grape) Fruit Water*, Vitis V...   \n",
              "2  ['Water\\\\Aqua\\\\Eau, Glyceryl Stearate, Silica,...   \n",
              "3  ['Water/Aqua/Eau, Potassium Myristate, Glyceri...   \n",
              "4  ['Cyclopentasiloxane, Water, Isostearyl Palmit...   \n",
              "\n",
              "                                          highlights primary_category  \\\n",
              "0  ['Good for: Pores', 'Good for: Acne/Blemishes'...         Skincare   \n",
              "1  ['Good for: Redness', 'Best for Dry Skin', 'Cl...         Skincare   \n",
              "2  ['Best for Oily Skin', 'Good for: Dullness/Une...         Skincare   \n",
              "3  ['Hyaluronic Acid', 'Gluten Free', 'Oil Free',...         Skincare   \n",
              "4  ['Good for: Dark Circles', 'Without Sulfates S...         Skincare   \n",
              "\n",
              "  secondary_category          tertiary_category  \n",
              "0         Treatments  Blemish & Acne Treatments  \n",
              "1       Moisturizers           Mists & Essences  \n",
              "2          Cleansers                Exfoliators  \n",
              "3          Cleansers      Face Wash & Cleansers  \n",
              "4           Eye Care    Eye Creams & Treatments  "
            ],
            "text/html": [
              "\n",
              "  <div id=\"df-c39e8f1f-4bb8-43c0-8457-afd855a2631d\" class=\"colab-df-container\">\n",
              "    <div>\n",
              "<style scoped>\n",
              "    .dataframe tbody tr th:only-of-type {\n",
              "        vertical-align: middle;\n",
              "    }\n",
              "\n",
              "    .dataframe tbody tr th {\n",
              "        vertical-align: top;\n",
              "    }\n",
              "\n",
              "    .dataframe thead th {\n",
              "        text-align: right;\n",
              "    }\n",
              "</style>\n",
              "<table border=\"1\" class=\"dataframe\">\n",
              "  <thead>\n",
              "    <tr style=\"text-align: right;\">\n",
              "      <th></th>\n",
              "      <th>product_id</th>\n",
              "      <th>pos_tags</th>\n",
              "      <th>product_name</th>\n",
              "      <th>ingredients</th>\n",
              "      <th>highlights</th>\n",
              "      <th>primary_category</th>\n",
              "      <th>secondary_category</th>\n",
              "      <th>tertiary_category</th>\n",
              "    </tr>\n",
              "  </thead>\n",
              "  <tbody>\n",
              "    <tr>\n",
              "      <th>0</th>\n",
              "      <td>P114902</td>\n",
              "      <td>[2, 1]</td>\n",
              "      <td>Goodbye Acne  Max Complexion Correction Pads</td>\n",
              "      <td>['Salicylic Acid 2%, Alcohol Denat., Water/Aqu...</td>\n",
              "      <td>['Good for: Pores', 'Good for: Acne/Blemishes'...</td>\n",
              "      <td>Skincare</td>\n",
              "      <td>Treatments</td>\n",
              "      <td>Blemish &amp; Acne Treatments</td>\n",
              "    </tr>\n",
              "    <tr>\n",
              "      <th>1</th>\n",
              "      <td>P12045</td>\n",
              "      <td>[1, 2]</td>\n",
              "      <td>Grape Water Moisturizing Face Mist</td>\n",
              "      <td>['Vitis Vinifera (Grape) Fruit Water*, Vitis V...</td>\n",
              "      <td>['Good for: Redness', 'Best for Dry Skin', 'Cl...</td>\n",
              "      <td>Skincare</td>\n",
              "      <td>Moisturizers</td>\n",
              "      <td>Mists &amp; Essences</td>\n",
              "    </tr>\n",
              "    <tr>\n",
              "      <th>2</th>\n",
              "      <td>P122718</td>\n",
              "      <td>[2, 1]</td>\n",
              "      <td>Exfoliating Face Scrub</td>\n",
              "      <td>['Water\\\\Aqua\\\\Eau, Glyceryl Stearate, Silica,...</td>\n",
              "      <td>['Best for Oily Skin', 'Good for: Dullness/Une...</td>\n",
              "      <td>Skincare</td>\n",
              "      <td>Cleansers</td>\n",
              "      <td>Exfoliators</td>\n",
              "    </tr>\n",
              "    <tr>\n",
              "      <th>3</th>\n",
              "      <td>P122762</td>\n",
              "      <td>[2, 1]</td>\n",
              "      <td>Rinse-Off Foaming Cleanser</td>\n",
              "      <td>['Water/Aqua/Eau, Potassium Myristate, Glyceri...</td>\n",
              "      <td>['Hyaluronic Acid', 'Gluten Free', 'Oil Free',...</td>\n",
              "      <td>Skincare</td>\n",
              "      <td>Cleansers</td>\n",
              "      <td>Face Wash &amp; Cleansers</td>\n",
              "    </tr>\n",
              "    <tr>\n",
              "      <th>4</th>\n",
              "      <td>P122774</td>\n",
              "      <td>[1, 2]</td>\n",
              "      <td>All About Eyes Eye Cream</td>\n",
              "      <td>['Cyclopentasiloxane, Water, Isostearyl Palmit...</td>\n",
              "      <td>['Good for: Dark Circles', 'Without Sulfates S...</td>\n",
              "      <td>Skincare</td>\n",
              "      <td>Eye Care</td>\n",
              "      <td>Eye Creams &amp; Treatments</td>\n",
              "    </tr>\n",
              "  </tbody>\n",
              "</table>\n",
              "</div>\n",
              "    <div class=\"colab-df-buttons\">\n",
              "\n",
              "  <div class=\"colab-df-container\">\n",
              "    <button class=\"colab-df-convert\" onclick=\"convertToInteractive('df-c39e8f1f-4bb8-43c0-8457-afd855a2631d')\"\n",
              "            title=\"Convert this dataframe to an interactive table.\"\n",
              "            style=\"display:none;\">\n",
              "\n",
              "  <svg xmlns=\"http://www.w3.org/2000/svg\" height=\"24px\" viewBox=\"0 -960 960 960\">\n",
              "    <path d=\"M120-120v-720h720v720H120Zm60-500h600v-160H180v160Zm220 220h160v-160H400v160Zm0 220h160v-160H400v160ZM180-400h160v-160H180v160Zm440 0h160v-160H620v160ZM180-180h160v-160H180v160Zm440 0h160v-160H620v160Z\"/>\n",
              "  </svg>\n",
              "    </button>\n",
              "\n",
              "  <style>\n",
              "    .colab-df-container {\n",
              "      display:flex;\n",
              "      gap: 12px;\n",
              "    }\n",
              "\n",
              "    .colab-df-convert {\n",
              "      background-color: #E8F0FE;\n",
              "      border: none;\n",
              "      border-radius: 50%;\n",
              "      cursor: pointer;\n",
              "      display: none;\n",
              "      fill: #1967D2;\n",
              "      height: 32px;\n",
              "      padding: 0 0 0 0;\n",
              "      width: 32px;\n",
              "    }\n",
              "\n",
              "    .colab-df-convert:hover {\n",
              "      background-color: #E2EBFA;\n",
              "      box-shadow: 0px 1px 2px rgba(60, 64, 67, 0.3), 0px 1px 3px 1px rgba(60, 64, 67, 0.15);\n",
              "      fill: #174EA6;\n",
              "    }\n",
              "\n",
              "    .colab-df-buttons div {\n",
              "      margin-bottom: 4px;\n",
              "    }\n",
              "\n",
              "    [theme=dark] .colab-df-convert {\n",
              "      background-color: #3B4455;\n",
              "      fill: #D2E3FC;\n",
              "    }\n",
              "\n",
              "    [theme=dark] .colab-df-convert:hover {\n",
              "      background-color: #434B5C;\n",
              "      box-shadow: 0px 1px 3px 1px rgba(0, 0, 0, 0.15);\n",
              "      filter: drop-shadow(0px 1px 2px rgba(0, 0, 0, 0.3));\n",
              "      fill: #FFFFFF;\n",
              "    }\n",
              "  </style>\n",
              "\n",
              "    <script>\n",
              "      const buttonEl =\n",
              "        document.querySelector('#df-c39e8f1f-4bb8-43c0-8457-afd855a2631d button.colab-df-convert');\n",
              "      buttonEl.style.display =\n",
              "        google.colab.kernel.accessAllowed ? 'block' : 'none';\n",
              "\n",
              "      async function convertToInteractive(key) {\n",
              "        const element = document.querySelector('#df-c39e8f1f-4bb8-43c0-8457-afd855a2631d');\n",
              "        const dataTable =\n",
              "          await google.colab.kernel.invokeFunction('convertToInteractive',\n",
              "                                                    [key], {});\n",
              "        if (!dataTable) return;\n",
              "\n",
              "        const docLinkHtml = 'Like what you see? Visit the ' +\n",
              "          '<a target=\"_blank\" href=https://colab.research.google.com/notebooks/data_table.ipynb>data table notebook</a>'\n",
              "          + ' to learn more about interactive tables.';\n",
              "        element.innerHTML = '';\n",
              "        dataTable['output_type'] = 'display_data';\n",
              "        await google.colab.output.renderOutput(dataTable, element);\n",
              "        const docLink = document.createElement('div');\n",
              "        docLink.innerHTML = docLinkHtml;\n",
              "        element.appendChild(docLink);\n",
              "      }\n",
              "    </script>\n",
              "  </div>\n",
              "\n",
              "\n",
              "    <div id=\"df-586e8921-3d4d-4bb0-8541-a34040f14c10\">\n",
              "      <button class=\"colab-df-quickchart\" onclick=\"quickchart('df-586e8921-3d4d-4bb0-8541-a34040f14c10')\"\n",
              "                title=\"Suggest charts\"\n",
              "                style=\"display:none;\">\n",
              "\n",
              "<svg xmlns=\"http://www.w3.org/2000/svg\" height=\"24px\"viewBox=\"0 0 24 24\"\n",
              "     width=\"24px\">\n",
              "    <g>\n",
              "        <path d=\"M19 3H5c-1.1 0-2 .9-2 2v14c0 1.1.9 2 2 2h14c1.1 0 2-.9 2-2V5c0-1.1-.9-2-2-2zM9 17H7v-7h2v7zm4 0h-2V7h2v10zm4 0h-2v-4h2v4z\"/>\n",
              "    </g>\n",
              "</svg>\n",
              "      </button>\n",
              "\n",
              "<style>\n",
              "  .colab-df-quickchart {\n",
              "      --bg-color: #E8F0FE;\n",
              "      --fill-color: #1967D2;\n",
              "      --hover-bg-color: #E2EBFA;\n",
              "      --hover-fill-color: #174EA6;\n",
              "      --disabled-fill-color: #AAA;\n",
              "      --disabled-bg-color: #DDD;\n",
              "  }\n",
              "\n",
              "  [theme=dark] .colab-df-quickchart {\n",
              "      --bg-color: #3B4455;\n",
              "      --fill-color: #D2E3FC;\n",
              "      --hover-bg-color: #434B5C;\n",
              "      --hover-fill-color: #FFFFFF;\n",
              "      --disabled-bg-color: #3B4455;\n",
              "      --disabled-fill-color: #666;\n",
              "  }\n",
              "\n",
              "  .colab-df-quickchart {\n",
              "    background-color: var(--bg-color);\n",
              "    border: none;\n",
              "    border-radius: 50%;\n",
              "    cursor: pointer;\n",
              "    display: none;\n",
              "    fill: var(--fill-color);\n",
              "    height: 32px;\n",
              "    padding: 0;\n",
              "    width: 32px;\n",
              "  }\n",
              "\n",
              "  .colab-df-quickchart:hover {\n",
              "    background-color: var(--hover-bg-color);\n",
              "    box-shadow: 0 1px 2px rgba(60, 64, 67, 0.3), 0 1px 3px 1px rgba(60, 64, 67, 0.15);\n",
              "    fill: var(--button-hover-fill-color);\n",
              "  }\n",
              "\n",
              "  .colab-df-quickchart-complete:disabled,\n",
              "  .colab-df-quickchart-complete:disabled:hover {\n",
              "    background-color: var(--disabled-bg-color);\n",
              "    fill: var(--disabled-fill-color);\n",
              "    box-shadow: none;\n",
              "  }\n",
              "\n",
              "  .colab-df-spinner {\n",
              "    border: 2px solid var(--fill-color);\n",
              "    border-color: transparent;\n",
              "    border-bottom-color: var(--fill-color);\n",
              "    animation:\n",
              "      spin 1s steps(1) infinite;\n",
              "  }\n",
              "\n",
              "  @keyframes spin {\n",
              "    0% {\n",
              "      border-color: transparent;\n",
              "      border-bottom-color: var(--fill-color);\n",
              "      border-left-color: var(--fill-color);\n",
              "    }\n",
              "    20% {\n",
              "      border-color: transparent;\n",
              "      border-left-color: var(--fill-color);\n",
              "      border-top-color: var(--fill-color);\n",
              "    }\n",
              "    30% {\n",
              "      border-color: transparent;\n",
              "      border-left-color: var(--fill-color);\n",
              "      border-top-color: var(--fill-color);\n",
              "      border-right-color: var(--fill-color);\n",
              "    }\n",
              "    40% {\n",
              "      border-color: transparent;\n",
              "      border-right-color: var(--fill-color);\n",
              "      border-top-color: var(--fill-color);\n",
              "    }\n",
              "    60% {\n",
              "      border-color: transparent;\n",
              "      border-right-color: var(--fill-color);\n",
              "    }\n",
              "    80% {\n",
              "      border-color: transparent;\n",
              "      border-right-color: var(--fill-color);\n",
              "      border-bottom-color: var(--fill-color);\n",
              "    }\n",
              "    90% {\n",
              "      border-color: transparent;\n",
              "      border-bottom-color: var(--fill-color);\n",
              "    }\n",
              "  }\n",
              "</style>\n",
              "\n",
              "      <script>\n",
              "        async function quickchart(key) {\n",
              "          const quickchartButtonEl =\n",
              "            document.querySelector('#' + key + ' button');\n",
              "          quickchartButtonEl.disabled = true;  // To prevent multiple clicks.\n",
              "          quickchartButtonEl.classList.add('colab-df-spinner');\n",
              "          try {\n",
              "            const charts = await google.colab.kernel.invokeFunction(\n",
              "                'suggestCharts', [key], {});\n",
              "          } catch (error) {\n",
              "            console.error('Error during call to suggestCharts:', error);\n",
              "          }\n",
              "          quickchartButtonEl.classList.remove('colab-df-spinner');\n",
              "          quickchartButtonEl.classList.add('colab-df-quickchart-complete');\n",
              "        }\n",
              "        (() => {\n",
              "          let quickchartButtonEl =\n",
              "            document.querySelector('#df-586e8921-3d4d-4bb0-8541-a34040f14c10 button');\n",
              "          quickchartButtonEl.style.display =\n",
              "            google.colab.kernel.accessAllowed ? 'block' : 'none';\n",
              "        })();\n",
              "      </script>\n",
              "    </div>\n",
              "\n",
              "    </div>\n",
              "  </div>\n"
            ],
            "application/vnd.google.colaboratory.intrinsic+json": {
              "type": "dataframe",
              "variable_name": "df_pos",
              "summary": "{\n  \"name\": \"df_pos\",\n  \"rows\": 1857,\n  \"fields\": [\n    {\n      \"column\": \"product_id\",\n      \"properties\": {\n        \"dtype\": \"string\",\n        \"num_unique_values\": 1857,\n        \"samples\": [\n          \"P421249\",\n          \"P441644\",\n          \"P475630\"\n        ],\n        \"semantic_type\": \"\",\n        \"description\": \"\"\n      }\n    },\n    {\n      \"column\": \"pos_tags\",\n      \"properties\": {\n        \"dtype\": \"object\",\n        \"semantic_type\": \"\",\n        \"description\": \"\"\n      }\n    },\n    {\n      \"column\": \"product_name\",\n      \"properties\": {\n        \"dtype\": \"string\",\n        \"num_unique_values\": 1850,\n        \"samples\": [\n          \"The Moisturizing Matte Lotion\",\n          \"Retinol Anti-Aging Power Duo\",\n          \"Barrier+ Triple Lipid-Peptide Face Cream\"\n        ],\n        \"semantic_type\": \"\",\n        \"description\": \"\"\n      }\n    },\n    {\n      \"column\": \"ingredients\",\n      \"properties\": {\n        \"dtype\": \"string\",\n        \"num_unique_values\": 1703,\n        \"samples\": [\n          \"['Aqua/Water/Eau, Dimethicone, Diglycerin, Saccharomyces/Camellia Sinensis Leaf/Cladosiphon Okamuranus/Rice Ferment Filtrate*, Glycerin, Diphenylsiloxy Phenyl Trimethicone, Neopentyl Glycol Diethylhexanoate, Butylene Glycol, Diisostearyl Malate, Peg-10 Dimethicone, Propanediol, Disteardimonium Hectorite, Ophiopogon Japonicus Root Extract, Indigofera Tinctoria Leaf Extract, Ceramide Ng, Palmitic Acid, Linoleic Acid, Sodium Hyaluronate, Polygonum Tinctorium Leaf/Stem Extract, Cetyl Alcohol, Sucrose Stearate, Sucrose Palmitate, Maltodextrin, Sargassum Vulgare Extract, Saccharomyces Ferment Filtrate, Hydrolyzed Lagenaria Siceraria Fruit Juice, Salvia Miltiorrhiza Root Extract, Tocopherol, Lauryl Peg-9 Polydimethylsiloxyethyl Dimethicone, Magnesium Sulfate, Hydrogenated Lecithin, Phytosterols, Ethylhexylglycerin, Phenoxyethanol, Mica (Ci 77019), Tin Oxide (Ci 77861), Titanium Dioxide (Ci 77891)', 'Hadasei-3']\",\n          \"['Clean Skin Gel:', 'Aqua (Water), Coco-Glucoside, Glycerin, Xanthan Gum, Sodium PCA, Parfum (Fragrance), Citric Acid, Sodium Benzoate, Potassium Sorbate, Aloe Barbadensis Extract, Sodium Hydroxide.', 'Overnight Glow Mask:', 'Aqua (Water), Propylene Glycol, Butylene Glycol, Carbomer, Sorbitan Caprylate, Sodium Hydroxide, Vaccinium Myrtillus Fruit Extract, Parfum (Fragrance), Propanediol, Benzoic Acid, Saccharum Officinarum (Sugar Cane) Extract, Sodium Hyaluronate, Diethylhexyl Syringylidenemalonate, Citrus Aurantium Dulcis (Orange) Fruit Extract, Citrus Limon (Lemon) Fruit Extract, Acer Saccharum (Sugar Maple) Extract, Caprylic/Capric Triglyceride, CI 42090 (Blue 1), CI 19140 (Yellow 5).', 'Nourishing Moisturizer:', 'Aqua (Water), Glycerin, Coco-Caprylate/Caprate, Isononyl Isononanoate, C10-18 Triglycerides, Decyl Oleate, Isostearyl Isostearate, Glyceryl Oleate Citrate, Stearyl Heptanoate, Hydroxypropyl Starch Phosphate, Cetearyl Glucoside, Glyceryl Stearate, Sorbitan Olivate, Stearyl Caprylate, Hydroxyethyl Acrylate/Sodium Acryloyldimethyl Taurate Copolymer, Persea Gratissima (Avocado) Oil, Rosa Rubiginosa Seed Oil, Sclerocarya Birrea Seed Oil, Cetearyl Alcohol, Squalane, Hydroxyacetophenone, Carbomer, Hydrogenated Rapeseed Oil, Parfum (Fragrance), Tocopherol, Butylene Glycol, Gellan Gum, 1,2-Hexanediol, Caprylyl Glycol, O-Cymen-5-Ol, Sodium Hydroxide, Sodium Polyacrylate, Polysorbate 60, Helianthus Annuus (Sunflower) Seed Oil, Sorbitan Isostearate, Sodium Chloride, Citric Acid.']\",\n          \"['Purified Water, Squalane, Cyclopentasiloxane, Glyceryl Stearate, Behenyl Alcohol, Caffeine, Palmitic Acid, Stearic Acid, Lecithin, Sodium Hyaluronate, Lauryl Alcohol, Myristyl Alcohol, Cetyl Alcohol, Dimethicone, Caprylyl Glycol, Sorbic Acid, Bakuchiol, Camellia Sinensis (Green Tea) Polyphenols, Resveratrol, Cucumis Sativus (Cucumber) Fruit Extract, Bisabolol, Genistein, Tocopherol Acetate, Chamomilla Recutita (Matricaria) Flower Extract, Helianthus Annuus (Sunflower) Seed Oil, Rosmarinus Officinalis (Rosemary) Leaf Extract, Punica Granatum Sterols, Aloe Barbadensis Leaf Juice, Polysorbate-20, Carbomer, Potassium Hydroxide, Phenoxyethanol, Tetrasodium EDTA.']\"\n        ],\n        \"semantic_type\": \"\",\n        \"description\": \"\"\n      }\n    },\n    {\n      \"column\": \"highlights\",\n      \"properties\": {\n        \"dtype\": \"string\",\n        \"num_unique_values\": 1561,\n        \"samples\": [\n          \"['Good for: Dullness/Uneven Texture', 'Lactic Acid', 'Good for: Pores', 'AHA/Glycolic Acid', 'Salicylic Acid', 'Good for: Acne/Blemishes']\",\n          \"['Vegan', 'Clean + Planet Positive', 'Gluten Free', 'Cruelty-Free']\",\n          \"['Hyaluronic Acid', 'AHA/Glycolic Acid', 'Good for: Dullness/Uneven Texture', 'Good for: Acne/Blemishes', 'Vegan', 'Clean + Planet Positive']\"\n        ],\n        \"semantic_type\": \"\",\n        \"description\": \"\"\n      }\n    },\n    {\n      \"column\": \"primary_category\",\n      \"properties\": {\n        \"dtype\": \"category\",\n        \"num_unique_values\": 1,\n        \"samples\": [\n          \"Skincare\"\n        ],\n        \"semantic_type\": \"\",\n        \"description\": \"\"\n      }\n    },\n    {\n      \"column\": \"secondary_category\",\n      \"properties\": {\n        \"dtype\": \"category\",\n        \"num_unique_values\": 12,\n        \"samples\": [\n          \"Self Tanners\"\n        ],\n        \"semantic_type\": \"\",\n        \"description\": \"\"\n      }\n    },\n    {\n      \"column\": \"tertiary_category\",\n      \"properties\": {\n        \"dtype\": \"category\",\n        \"num_unique_values\": 27,\n        \"samples\": [\n          \"Toners\"\n        ],\n        \"semantic_type\": \"\",\n        \"description\": \"\"\n      }\n    }\n  ]\n}"
            }
          },
          "metadata": {},
          "execution_count": 13
        }
      ]
    },
    {
      "cell_type": "code",
      "source": [
        "stemmed_keyword_to_tag_neg = build_stemmed_keyword_map(keyword_to_tag_neg)\n",
        "negative_reviews[\"neg_tags\"] = negative_reviews[\"review_text\"].apply(\n",
        "  lambda text: classify_review_tags_with_stemming(text, stemmed_keyword_to_tag_neg)\n",
        ")\n",
        "negative_reviews['neg_tags'] = negative_reviews['neg_tags'].apply(\n",
        "  lambda x: ast.literal_eval(x) if isinstance(x, str) else x\n",
        ")\n",
        "df_neg_groupby = negative_reviews.groupby('product_id')['neg_tags'].apply(\n",
        "  lambda lists: top_k_labels(lists, k=3, min_freq=0.1)\n",
        ").reset_index()\n",
        "df_neg_groupby = df_neg_groupby[df_neg_groupby['neg_tags'].apply(lambda x: len(x) > 0)].reset_index(drop=True)\n",
        "df_neg = df_neg_groupby.merge(product_info, on='product_id', how='inner')\n",
        "df_neg.to_csv('/content/drive/MyDrive/Colab Notebooks/dataset_final/df_neg.csv', index=False)\n",
        "\n",
        "lengths = df_neg['neg_tags'].apply(len)\n",
        "print('平均主題數:', lengths.mean())\n",
        "print('負面回饋資料數: ', df_neg.shape)\n",
        "df_neg.head()"
      ],
      "metadata": {
        "id": "NPTaC0Kz7uAy",
        "colab": {
          "base_uri": "https://localhost:8080/",
          "height": 328
        },
        "outputId": "070ce8c3-5f25-4a24-d1a2-ca371cb638cf"
      },
      "execution_count": null,
      "outputs": [
        {
          "output_type": "stream",
          "name": "stdout",
          "text": [
            "平均主題數: 2.9146757679180886\n",
            "負面回饋資料數:  (1758, 8)\n"
          ]
        },
        {
          "output_type": "execute_result",
          "data": {
            "text/plain": [
              "  product_id   neg_tags                                  product_name  \\\n",
              "0    P114902  [1, 3, 4]  Goodbye Acne  Max Complexion Correction Pads   \n",
              "1     P12045  [4, 1, 3]            Grape Water Moisturizing Face Mist   \n",
              "2    P122718  [1, 4, 3]                        Exfoliating Face Scrub   \n",
              "3    P122762     [3, 4]                    Rinse-Off Foaming Cleanser   \n",
              "4    P122774  [3, 4, 0]                      All About Eyes Eye Cream   \n",
              "\n",
              "                                         ingredients  \\\n",
              "0  ['Salicylic Acid 2%, Alcohol Denat., Water/Aqu...   \n",
              "1  ['Vitis Vinifera (Grape) Fruit Water*, Vitis V...   \n",
              "2  ['Water\\\\Aqua\\\\Eau, Glyceryl Stearate, Silica,...   \n",
              "3  ['Water/Aqua/Eau, Potassium Myristate, Glyceri...   \n",
              "4  ['Cyclopentasiloxane, Water, Isostearyl Palmit...   \n",
              "\n",
              "                                          highlights primary_category  \\\n",
              "0  ['Good for: Pores', 'Good for: Acne/Blemishes'...         Skincare   \n",
              "1  ['Good for: Redness', 'Best for Dry Skin', 'Cl...         Skincare   \n",
              "2  ['Best for Oily Skin', 'Good for: Dullness/Une...         Skincare   \n",
              "3  ['Hyaluronic Acid', 'Gluten Free', 'Oil Free',...         Skincare   \n",
              "4  ['Good for: Dark Circles', 'Without Sulfates S...         Skincare   \n",
              "\n",
              "  secondary_category          tertiary_category  \n",
              "0         Treatments  Blemish & Acne Treatments  \n",
              "1       Moisturizers           Mists & Essences  \n",
              "2          Cleansers                Exfoliators  \n",
              "3          Cleansers      Face Wash & Cleansers  \n",
              "4           Eye Care    Eye Creams & Treatments  "
            ],
            "text/html": [
              "\n",
              "  <div id=\"df-f37e7878-36a4-4293-9dca-0adbd0709254\" class=\"colab-df-container\">\n",
              "    <div>\n",
              "<style scoped>\n",
              "    .dataframe tbody tr th:only-of-type {\n",
              "        vertical-align: middle;\n",
              "    }\n",
              "\n",
              "    .dataframe tbody tr th {\n",
              "        vertical-align: top;\n",
              "    }\n",
              "\n",
              "    .dataframe thead th {\n",
              "        text-align: right;\n",
              "    }\n",
              "</style>\n",
              "<table border=\"1\" class=\"dataframe\">\n",
              "  <thead>\n",
              "    <tr style=\"text-align: right;\">\n",
              "      <th></th>\n",
              "      <th>product_id</th>\n",
              "      <th>neg_tags</th>\n",
              "      <th>product_name</th>\n",
              "      <th>ingredients</th>\n",
              "      <th>highlights</th>\n",
              "      <th>primary_category</th>\n",
              "      <th>secondary_category</th>\n",
              "      <th>tertiary_category</th>\n",
              "    </tr>\n",
              "  </thead>\n",
              "  <tbody>\n",
              "    <tr>\n",
              "      <th>0</th>\n",
              "      <td>P114902</td>\n",
              "      <td>[1, 3, 4]</td>\n",
              "      <td>Goodbye Acne  Max Complexion Correction Pads</td>\n",
              "      <td>['Salicylic Acid 2%, Alcohol Denat., Water/Aqu...</td>\n",
              "      <td>['Good for: Pores', 'Good for: Acne/Blemishes'...</td>\n",
              "      <td>Skincare</td>\n",
              "      <td>Treatments</td>\n",
              "      <td>Blemish &amp; Acne Treatments</td>\n",
              "    </tr>\n",
              "    <tr>\n",
              "      <th>1</th>\n",
              "      <td>P12045</td>\n",
              "      <td>[4, 1, 3]</td>\n",
              "      <td>Grape Water Moisturizing Face Mist</td>\n",
              "      <td>['Vitis Vinifera (Grape) Fruit Water*, Vitis V...</td>\n",
              "      <td>['Good for: Redness', 'Best for Dry Skin', 'Cl...</td>\n",
              "      <td>Skincare</td>\n",
              "      <td>Moisturizers</td>\n",
              "      <td>Mists &amp; Essences</td>\n",
              "    </tr>\n",
              "    <tr>\n",
              "      <th>2</th>\n",
              "      <td>P122718</td>\n",
              "      <td>[1, 4, 3]</td>\n",
              "      <td>Exfoliating Face Scrub</td>\n",
              "      <td>['Water\\\\Aqua\\\\Eau, Glyceryl Stearate, Silica,...</td>\n",
              "      <td>['Best for Oily Skin', 'Good for: Dullness/Une...</td>\n",
              "      <td>Skincare</td>\n",
              "      <td>Cleansers</td>\n",
              "      <td>Exfoliators</td>\n",
              "    </tr>\n",
              "    <tr>\n",
              "      <th>3</th>\n",
              "      <td>P122762</td>\n",
              "      <td>[3, 4]</td>\n",
              "      <td>Rinse-Off Foaming Cleanser</td>\n",
              "      <td>['Water/Aqua/Eau, Potassium Myristate, Glyceri...</td>\n",
              "      <td>['Hyaluronic Acid', 'Gluten Free', 'Oil Free',...</td>\n",
              "      <td>Skincare</td>\n",
              "      <td>Cleansers</td>\n",
              "      <td>Face Wash &amp; Cleansers</td>\n",
              "    </tr>\n",
              "    <tr>\n",
              "      <th>4</th>\n",
              "      <td>P122774</td>\n",
              "      <td>[3, 4, 0]</td>\n",
              "      <td>All About Eyes Eye Cream</td>\n",
              "      <td>['Cyclopentasiloxane, Water, Isostearyl Palmit...</td>\n",
              "      <td>['Good for: Dark Circles', 'Without Sulfates S...</td>\n",
              "      <td>Skincare</td>\n",
              "      <td>Eye Care</td>\n",
              "      <td>Eye Creams &amp; Treatments</td>\n",
              "    </tr>\n",
              "  </tbody>\n",
              "</table>\n",
              "</div>\n",
              "    <div class=\"colab-df-buttons\">\n",
              "\n",
              "  <div class=\"colab-df-container\">\n",
              "    <button class=\"colab-df-convert\" onclick=\"convertToInteractive('df-f37e7878-36a4-4293-9dca-0adbd0709254')\"\n",
              "            title=\"Convert this dataframe to an interactive table.\"\n",
              "            style=\"display:none;\">\n",
              "\n",
              "  <svg xmlns=\"http://www.w3.org/2000/svg\" height=\"24px\" viewBox=\"0 -960 960 960\">\n",
              "    <path d=\"M120-120v-720h720v720H120Zm60-500h600v-160H180v160Zm220 220h160v-160H400v160Zm0 220h160v-160H400v160ZM180-400h160v-160H180v160Zm440 0h160v-160H620v160ZM180-180h160v-160H180v160Zm440 0h160v-160H620v160Z\"/>\n",
              "  </svg>\n",
              "    </button>\n",
              "\n",
              "  <style>\n",
              "    .colab-df-container {\n",
              "      display:flex;\n",
              "      gap: 12px;\n",
              "    }\n",
              "\n",
              "    .colab-df-convert {\n",
              "      background-color: #E8F0FE;\n",
              "      border: none;\n",
              "      border-radius: 50%;\n",
              "      cursor: pointer;\n",
              "      display: none;\n",
              "      fill: #1967D2;\n",
              "      height: 32px;\n",
              "      padding: 0 0 0 0;\n",
              "      width: 32px;\n",
              "    }\n",
              "\n",
              "    .colab-df-convert:hover {\n",
              "      background-color: #E2EBFA;\n",
              "      box-shadow: 0px 1px 2px rgba(60, 64, 67, 0.3), 0px 1px 3px 1px rgba(60, 64, 67, 0.15);\n",
              "      fill: #174EA6;\n",
              "    }\n",
              "\n",
              "    .colab-df-buttons div {\n",
              "      margin-bottom: 4px;\n",
              "    }\n",
              "\n",
              "    [theme=dark] .colab-df-convert {\n",
              "      background-color: #3B4455;\n",
              "      fill: #D2E3FC;\n",
              "    }\n",
              "\n",
              "    [theme=dark] .colab-df-convert:hover {\n",
              "      background-color: #434B5C;\n",
              "      box-shadow: 0px 1px 3px 1px rgba(0, 0, 0, 0.15);\n",
              "      filter: drop-shadow(0px 1px 2px rgba(0, 0, 0, 0.3));\n",
              "      fill: #FFFFFF;\n",
              "    }\n",
              "  </style>\n",
              "\n",
              "    <script>\n",
              "      const buttonEl =\n",
              "        document.querySelector('#df-f37e7878-36a4-4293-9dca-0adbd0709254 button.colab-df-convert');\n",
              "      buttonEl.style.display =\n",
              "        google.colab.kernel.accessAllowed ? 'block' : 'none';\n",
              "\n",
              "      async function convertToInteractive(key) {\n",
              "        const element = document.querySelector('#df-f37e7878-36a4-4293-9dca-0adbd0709254');\n",
              "        const dataTable =\n",
              "          await google.colab.kernel.invokeFunction('convertToInteractive',\n",
              "                                                    [key], {});\n",
              "        if (!dataTable) return;\n",
              "\n",
              "        const docLinkHtml = 'Like what you see? Visit the ' +\n",
              "          '<a target=\"_blank\" href=https://colab.research.google.com/notebooks/data_table.ipynb>data table notebook</a>'\n",
              "          + ' to learn more about interactive tables.';\n",
              "        element.innerHTML = '';\n",
              "        dataTable['output_type'] = 'display_data';\n",
              "        await google.colab.output.renderOutput(dataTable, element);\n",
              "        const docLink = document.createElement('div');\n",
              "        docLink.innerHTML = docLinkHtml;\n",
              "        element.appendChild(docLink);\n",
              "      }\n",
              "    </script>\n",
              "  </div>\n",
              "\n",
              "\n",
              "    <div id=\"df-e7d7ad99-4a6f-43a7-b12d-8a6f79f4230b\">\n",
              "      <button class=\"colab-df-quickchart\" onclick=\"quickchart('df-e7d7ad99-4a6f-43a7-b12d-8a6f79f4230b')\"\n",
              "                title=\"Suggest charts\"\n",
              "                style=\"display:none;\">\n",
              "\n",
              "<svg xmlns=\"http://www.w3.org/2000/svg\" height=\"24px\"viewBox=\"0 0 24 24\"\n",
              "     width=\"24px\">\n",
              "    <g>\n",
              "        <path d=\"M19 3H5c-1.1 0-2 .9-2 2v14c0 1.1.9 2 2 2h14c1.1 0 2-.9 2-2V5c0-1.1-.9-2-2-2zM9 17H7v-7h2v7zm4 0h-2V7h2v10zm4 0h-2v-4h2v4z\"/>\n",
              "    </g>\n",
              "</svg>\n",
              "      </button>\n",
              "\n",
              "<style>\n",
              "  .colab-df-quickchart {\n",
              "      --bg-color: #E8F0FE;\n",
              "      --fill-color: #1967D2;\n",
              "      --hover-bg-color: #E2EBFA;\n",
              "      --hover-fill-color: #174EA6;\n",
              "      --disabled-fill-color: #AAA;\n",
              "      --disabled-bg-color: #DDD;\n",
              "  }\n",
              "\n",
              "  [theme=dark] .colab-df-quickchart {\n",
              "      --bg-color: #3B4455;\n",
              "      --fill-color: #D2E3FC;\n",
              "      --hover-bg-color: #434B5C;\n",
              "      --hover-fill-color: #FFFFFF;\n",
              "      --disabled-bg-color: #3B4455;\n",
              "      --disabled-fill-color: #666;\n",
              "  }\n",
              "\n",
              "  .colab-df-quickchart {\n",
              "    background-color: var(--bg-color);\n",
              "    border: none;\n",
              "    border-radius: 50%;\n",
              "    cursor: pointer;\n",
              "    display: none;\n",
              "    fill: var(--fill-color);\n",
              "    height: 32px;\n",
              "    padding: 0;\n",
              "    width: 32px;\n",
              "  }\n",
              "\n",
              "  .colab-df-quickchart:hover {\n",
              "    background-color: var(--hover-bg-color);\n",
              "    box-shadow: 0 1px 2px rgba(60, 64, 67, 0.3), 0 1px 3px 1px rgba(60, 64, 67, 0.15);\n",
              "    fill: var(--button-hover-fill-color);\n",
              "  }\n",
              "\n",
              "  .colab-df-quickchart-complete:disabled,\n",
              "  .colab-df-quickchart-complete:disabled:hover {\n",
              "    background-color: var(--disabled-bg-color);\n",
              "    fill: var(--disabled-fill-color);\n",
              "    box-shadow: none;\n",
              "  }\n",
              "\n",
              "  .colab-df-spinner {\n",
              "    border: 2px solid var(--fill-color);\n",
              "    border-color: transparent;\n",
              "    border-bottom-color: var(--fill-color);\n",
              "    animation:\n",
              "      spin 1s steps(1) infinite;\n",
              "  }\n",
              "\n",
              "  @keyframes spin {\n",
              "    0% {\n",
              "      border-color: transparent;\n",
              "      border-bottom-color: var(--fill-color);\n",
              "      border-left-color: var(--fill-color);\n",
              "    }\n",
              "    20% {\n",
              "      border-color: transparent;\n",
              "      border-left-color: var(--fill-color);\n",
              "      border-top-color: var(--fill-color);\n",
              "    }\n",
              "    30% {\n",
              "      border-color: transparent;\n",
              "      border-left-color: var(--fill-color);\n",
              "      border-top-color: var(--fill-color);\n",
              "      border-right-color: var(--fill-color);\n",
              "    }\n",
              "    40% {\n",
              "      border-color: transparent;\n",
              "      border-right-color: var(--fill-color);\n",
              "      border-top-color: var(--fill-color);\n",
              "    }\n",
              "    60% {\n",
              "      border-color: transparent;\n",
              "      border-right-color: var(--fill-color);\n",
              "    }\n",
              "    80% {\n",
              "      border-color: transparent;\n",
              "      border-right-color: var(--fill-color);\n",
              "      border-bottom-color: var(--fill-color);\n",
              "    }\n",
              "    90% {\n",
              "      border-color: transparent;\n",
              "      border-bottom-color: var(--fill-color);\n",
              "    }\n",
              "  }\n",
              "</style>\n",
              "\n",
              "      <script>\n",
              "        async function quickchart(key) {\n",
              "          const quickchartButtonEl =\n",
              "            document.querySelector('#' + key + ' button');\n",
              "          quickchartButtonEl.disabled = true;  // To prevent multiple clicks.\n",
              "          quickchartButtonEl.classList.add('colab-df-spinner');\n",
              "          try {\n",
              "            const charts = await google.colab.kernel.invokeFunction(\n",
              "                'suggestCharts', [key], {});\n",
              "          } catch (error) {\n",
              "            console.error('Error during call to suggestCharts:', error);\n",
              "          }\n",
              "          quickchartButtonEl.classList.remove('colab-df-spinner');\n",
              "          quickchartButtonEl.classList.add('colab-df-quickchart-complete');\n",
              "        }\n",
              "        (() => {\n",
              "          let quickchartButtonEl =\n",
              "            document.querySelector('#df-e7d7ad99-4a6f-43a7-b12d-8a6f79f4230b button');\n",
              "          quickchartButtonEl.style.display =\n",
              "            google.colab.kernel.accessAllowed ? 'block' : 'none';\n",
              "        })();\n",
              "      </script>\n",
              "    </div>\n",
              "\n",
              "    </div>\n",
              "  </div>\n"
            ],
            "application/vnd.google.colaboratory.intrinsic+json": {
              "type": "dataframe",
              "variable_name": "df_neg",
              "summary": "{\n  \"name\": \"df_neg\",\n  \"rows\": 1758,\n  \"fields\": [\n    {\n      \"column\": \"product_id\",\n      \"properties\": {\n        \"dtype\": \"string\",\n        \"num_unique_values\": 1758,\n        \"samples\": [\n          \"P474840\",\n          \"P471086\",\n          \"P483698\"\n        ],\n        \"semantic_type\": \"\",\n        \"description\": \"\"\n      }\n    },\n    {\n      \"column\": \"neg_tags\",\n      \"properties\": {\n        \"dtype\": \"object\",\n        \"semantic_type\": \"\",\n        \"description\": \"\"\n      }\n    },\n    {\n      \"column\": \"product_name\",\n      \"properties\": {\n        \"dtype\": \"string\",\n        \"num_unique_values\": 1752,\n        \"samples\": [\n          \"Cicapair  Tiger Grass Camo Drops Color Corrector SPF 35\",\n          \"GENIUS Sleeping Collagen Moisturizer\",\n          \"GloPRO Prep Pads Clarifying Skin Cleansing Wipes with Peptides\"\n        ],\n        \"semantic_type\": \"\",\n        \"description\": \"\"\n      }\n    },\n    {\n      \"column\": \"ingredients\",\n      \"properties\": {\n        \"dtype\": \"string\",\n        \"num_unique_values\": 1618,\n        \"samples\": [\n          \"['Water/Aqua/Eau, Sodium Laureth Sulfate, Cocamidopropyl Betaine, Jojoba Esters, Acrylates Copolymer, Glycol Stearate, Butylene Glycol, Sodium PCA, Dipotassium Glycyrrhizate, Sodium Ascorbyl Phosphate, Glycolic Acid, Lactic Acid, Salicylic Acid, Polyquaternium-4, Sodium Hydroxide, Sodium Chloride, Citric Acid, Disodium EDTA, Phenoxyethanol, Methylparaben, Propylparaben.']\",\n          \"['Cocos Nucifera (Coconut) Water, Dihydroxyacetone, Propylene Glycol, Ethoxydiglycol, PEG-40 Hydrogenated Castor Oil, Glycerin , Decyl Glucoside, Glycereth-26, Erythrulose, Tropaeolum Majus Flower/Leaf/Stem Extract, Panthenol, Aloe Barbadensis Extract, Citrus Grandis (Grapefruit) Peel Oil, Cocos Nucifera (Coconut) Oil, Eucalyptus Globulus Leaf Oil, Mentha Piperita (Peppermint) Oil, Persea Gratissima (Avocado) Oil , Salvia Hispanica Seed Oil, Salvia Officinalis (Sage) Oil, Agastache Mexicana Flower/Leaf/Stem Extract, Methoxyphenyl t-Butylphenyl Propanediol, Ascorbic Acid, Ethylhexylglycerin, Propanediol, Sodium Metabisulfite, Parfum (Fragrance), Phenoxyethanol, Triethylene Glycol.']\",\n          \"['Water, Butyloctyl Salicylate, Dipropylene Glycol, Methyl Trimethicone, Biosaccharide Gum-4, Caprylyl Methicone, Propanediol, Bis-Ethylhexyl Hydroxydimethoxy Benzylmalonate, Betaine, Acrylates Copolymer, Ammonium Acryloyldimethyltaurate/VP Copolymer, Hydroxyacetophenone, Phenoxyethanol, Hydrolyzed Wheat Protein/PVP Crosspolymer, Dibutyl Lauroyl Glutamide, Dibutyl Ethylhexanoyl Glutamide, Butylene Glycol, Citrus Aurantium Dulcis (Orange) Peel Oil, Dipotassium Glycyrrhizate, Carbomer, Tocopheryl Acetate, Aminomethyl Propanol, Hippophae Rhamnoides Fruit Extract, Disodium EDTA, Pentylene Glycol, Aloe Barbadensis Leaf Extract, Silica, Bioflavonoids, Potassium Sorbate, Hydroxyphenyl Propamidobenzoic Acid, Brassica Oleracea Italica (Broccoli) Extract, Ethylhexylglycerin, Camellia Sinensis Leaf Extract, Ascorbyl Palmitate, Avobenzone 3%, Homosalate 6%, Octisalate 5%']\"\n        ],\n        \"semantic_type\": \"\",\n        \"description\": \"\"\n      }\n    },\n    {\n      \"column\": \"highlights\",\n      \"properties\": {\n        \"dtype\": \"string\",\n        \"num_unique_values\": 1492,\n        \"samples\": [\n          \"['Good for: Pores', 'Good for: Dullness/Uneven Texture', 'AHA/Glycolic Acid', 'Without Sulfates SLS & SLES', 'Vegan']\",\n          \"['Vegan', 'Good for: Anti-Aging', 'Gluten Free']\",\n          \"['Vegan', 'Hyaluronic Acid', 'Fragrance Free', 'Cruelty-Free']\"\n        ],\n        \"semantic_type\": \"\",\n        \"description\": \"\"\n      }\n    },\n    {\n      \"column\": \"primary_category\",\n      \"properties\": {\n        \"dtype\": \"category\",\n        \"num_unique_values\": 1,\n        \"samples\": [\n          \"Skincare\"\n        ],\n        \"semantic_type\": \"\",\n        \"description\": \"\"\n      }\n    },\n    {\n      \"column\": \"secondary_category\",\n      \"properties\": {\n        \"dtype\": \"category\",\n        \"num_unique_values\": 12,\n        \"samples\": [\n          \"Self Tanners\"\n        ],\n        \"semantic_type\": \"\",\n        \"description\": \"\"\n      }\n    },\n    {\n      \"column\": \"tertiary_category\",\n      \"properties\": {\n        \"dtype\": \"category\",\n        \"num_unique_values\": 27,\n        \"samples\": [\n          \"Toners\"\n        ],\n        \"semantic_type\": \"\",\n        \"description\": \"\"\n      }\n    }\n  ]\n}"
            }
          },
          "metadata": {},
          "execution_count": 14
        }
      ]
    },
    {
      "cell_type": "code",
      "source": [
        "df_pos = pd.read_csv('/content/drive/MyDrive/Colab Notebooks/dataset_final/df_pos.csv')\n",
        "df_neg = pd.read_csv('/content/drive/MyDrive/Colab Notebooks/dataset_final/df_neg.csv')"
      ],
      "metadata": {
        "id": "aQ0D_yZmpB-A"
      },
      "execution_count": null,
      "outputs": []
    },
    {
      "cell_type": "code",
      "source": [
        "!wget -P /content/ 'https://dl.fbaipublicfiles.com/fasttext/vectors-crawl/cc.en.300.bin.gz'\n",
        "!gunzip /content/cc.en.300.bin.gz\n",
        "ft = fasttext.load_model('/content/cc.en.300.bin')"
      ],
      "metadata": {
        "collapsed": true,
        "id": "iUFJDnW5BiAV"
      },
      "execution_count": null,
      "outputs": []
    },
    {
      "cell_type": "markdown",
      "source": [
        "Positive dataset"
      ],
      "metadata": {
        "id": "RMFuql65xuIA"
      }
    },
    {
      "cell_type": "code",
      "source": [
        "texts = df_pos.apply(\n",
        "  lambda row: ' '.join([\n",
        "    str(row['ingredients']),\n",
        "    str(row['highlights']),\n",
        "    str(row['primary_category']),\n",
        "    str(row['secondary_category']),\n",
        "    str(row['tertiary_category'])\n",
        "  ]), axis=1).values\n",
        "\n",
        "lengths = [len(text.split()) for text in texts]\n",
        "print(f'平均長度: {sum(lengths)/len(lengths):.2f}')\n",
        "print(f'最大長度: {max(lengths)}')\n",
        "print(f'中位數長度: {sorted(lengths)[len(lengths)//2]}')"
      ],
      "metadata": {
        "id": "LHbHt8J-k3Pr",
        "colab": {
          "base_uri": "https://localhost:8080/"
        },
        "outputId": "320e0a62-550a-4864-dd8c-97c3c7801094"
      },
      "execution_count": null,
      "outputs": [
        {
          "output_type": "stream",
          "name": "stdout",
          "text": [
            "平均長度: 110.90\n",
            "最大長度: 1106\n",
            "中位數長度: 97\n"
          ]
        }
      ]
    },
    {
      "cell_type": "code",
      "source": [
        "max_features = 5000\n",
        "maxlen = 256\n",
        "\n",
        "# 1. 切割訓練集與測試集\n",
        "labels = df_pos['pos_tags'].values\n",
        "texts, labels = shuffle(texts, labels, random_state=100)\n",
        "train_size = 1480\n",
        "test_size = 370\n",
        "texts_train = texts[:train_size]\n",
        "labels_train = labels[:train_size]\n",
        "texts_test = texts[train_size:train_size+test_size]\n",
        "labels_test = labels[train_size:train_size+test_size]\n",
        "\n",
        "# 1.1. 建 tokenizer 並擷取 word_index\n",
        "tokenizer = Tokenizer(num_words=max_features, oov_token=\"<UNK>\")\n",
        "tokenizer.fit_on_texts(texts_train)\n",
        "word_index = tokenizer.word_index\n",
        "\n",
        "# 1.2. Tokenize & pad\n",
        "seq_train = tokenizer.texts_to_sequences(texts_train)\n",
        "x_train = pad_sequences(seq_train, maxlen=maxlen, padding='post', truncating='post')\n",
        "seq_test = tokenizer.texts_to_sequences(texts_test)\n",
        "x_test = pad_sequences(seq_test, maxlen=maxlen, padding='post', truncating='post')\n",
        "\n",
        "# 1.3. 多標籤處理\n",
        "mlb = MultiLabelBinarizer()\n",
        "y_train = mlb.fit_transform(labels_train)\n",
        "y_test = mlb.transform(labels_test)\n",
        "\n",
        "# 2. 讀取 Fasttext 預訓練詞向量\n",
        "# 2.1. 建 embedding matrix\n",
        "embedding_dim = 300\n",
        "embedding_matrix = np.zeros((max_features, embedding_dim))\n",
        "for word, i in word_index.items():\n",
        "  if i < max_features:\n",
        "    embedding_matrix[i] = ft.get_word_vector(word)\n",
        "\n",
        "# 2.2. 做 embedding 層\n",
        "embedding_layer = Embedding(\n",
        "  input_dim=max_features,\n",
        "  output_dim=embedding_dim,\n",
        "  weights=[embedding_matrix],\n",
        "  input_length=maxlen,\n",
        "  trainable=True\n",
        ")"
      ],
      "metadata": {
        "id": "2F7jLGvs0bsY"
      },
      "execution_count": null,
      "outputs": []
    },
    {
      "cell_type": "code",
      "source": [
        "covered = np.sum(np.any(embedding_matrix != 0, axis=1))\n",
        "print(f'被 Fasttext 覆蓋的詞數: {covered} / {max_features} = ', covered/max_features)"
      ],
      "metadata": {
        "id": "4Dvb7l7Z-sT9",
        "colab": {
          "base_uri": "https://localhost:8080/"
        },
        "outputId": "2e6b383a-f01d-43b3-f2f1-7258f3341461"
      },
      "execution_count": null,
      "outputs": [
        {
          "output_type": "stream",
          "name": "stdout",
          "text": [
            "被 Fasttext 覆蓋的詞數: 4646 / 5000 =  0.9292\n"
          ]
        }
      ]
    },
    {
      "cell_type": "markdown",
      "source": [
        "Negative dataset"
      ],
      "metadata": {
        "id": "X4PrAoZd_rhS"
      }
    },
    {
      "cell_type": "code",
      "source": [
        "texts = df_neg.apply(\n",
        "  lambda row: ' '.join([\n",
        "  str(row['ingredients']),\n",
        "  str(row['highlights']),\n",
        "  str(row['primary_category']),\n",
        "  str(row['secondary_category']),\n",
        "  str(row['tertiary_category'])\n",
        "  ]), axis=1).values\n",
        "\n",
        "lengths = [len(text.split()) for text in texts]\n",
        "print(f'平均長度: {sum(lengths)/len(lengths):.2f}')\n",
        "print(f'最大長度: {max(lengths)}')\n",
        "print(f'中位數長度: {sorted(lengths)[len(lengths)//2]}')"
      ],
      "metadata": {
        "colab": {
          "base_uri": "https://localhost:8080/"
        },
        "id": "nM1iDeQ6kqoT",
        "outputId": "5558559d-4a51-4a4a-d09d-474d346a512a"
      },
      "execution_count": null,
      "outputs": [
        {
          "output_type": "stream",
          "name": "stdout",
          "text": [
            "平均長度: 108.89\n",
            "最大長度: 752\n",
            "中位數長度: 96\n"
          ]
        }
      ]
    },
    {
      "cell_type": "code",
      "source": [
        "max_features = 5000\n",
        "maxlen = 256\n",
        "\n",
        "# 1. 切割訓練集與測試集\n",
        "labels = df_neg['neg_tags'].values\n",
        "texts, labels = shuffle(texts, labels, random_state=100)\n",
        "train_size = 1400\n",
        "test_size = 350\n",
        "texts_train = texts[:train_size]\n",
        "labels_train = labels[:train_size]\n",
        "texts_test = texts[train_size:train_size+test_size]\n",
        "labels_test = labels[train_size:train_size+test_size]\n",
        "\n",
        "# 1.1. 建 tokenizer 並擷取 word_index\n",
        "tokenizer = Tokenizer(num_words=max_features, oov_token=\"<UNK>\")\n",
        "tokenizer.fit_on_texts(texts_train)\n",
        "word_index = tokenizer.word_index\n",
        "\n",
        "# 1.2. Tokenize & pad\n",
        "seq_train = tokenizer.texts_to_sequences(texts_train)\n",
        "x_train = pad_sequences(seq_train, maxlen=maxlen, padding='post', truncating='post')\n",
        "seq_test = tokenizer.texts_to_sequences(texts_test)\n",
        "x_test = pad_sequences(seq_test, maxlen=maxlen, padding='post', truncating='post')\n",
        "\n",
        "# 1.3. 多標籤處理\n",
        "mlb = MultiLabelBinarizer()\n",
        "y_train = mlb.fit_transform(labels_train)\n",
        "y_test = mlb.transform(labels_test)\n",
        "\n",
        "# 2. 使用 FastText 預訓練詞向量\n",
        "# 2.1. 建 embedding matrix\n",
        "embedding_dim = 300\n",
        "embedding_matrix = np.zeros((max_features, embedding_dim))\n",
        "for word, i in word_index.items():\n",
        "  if i < max_features:\n",
        "    embedding_matrix[i] = ft.get_word_vector(word)\n",
        "\n",
        "# 2.2. 做 embedding 層\n",
        "embedding_layer = Embedding(\n",
        "  input_dim=max_features,\n",
        "  output_dim=embedding_dim,\n",
        "  weights=[embedding_matrix],\n",
        "  input_length=maxlen,\n",
        "  trainable=True\n",
        ")"
      ],
      "metadata": {
        "id": "HZSrfJSmUiVs"
      },
      "execution_count": null,
      "outputs": []
    },
    {
      "cell_type": "code",
      "source": [
        "covered = np.sum(np.any(embedding_matrix != 0, axis=1))\n",
        "print(f'被 Fasttext 覆蓋的詞數: {covered} / {max_features} = ', covered/max_features)"
      ],
      "metadata": {
        "colab": {
          "base_uri": "https://localhost:8080/"
        },
        "id": "TEQO54QIGlBS",
        "outputId": "7fc97261-2f20-4cc5-a413-1647408626ad"
      },
      "execution_count": null,
      "outputs": [
        {
          "output_type": "stream",
          "name": "stdout",
          "text": [
            "被 Fasttext 覆蓋的詞數: 4471 / 5000 =  0.8942\n"
          ]
        }
      ]
    },
    {
      "cell_type": "markdown",
      "source": [
        "Model Structure"
      ],
      "metadata": {
        "id": "Fq844Cgo1pOJ"
      }
    },
    {
      "cell_type": "code",
      "source": [
        "def build_model(cell_type, use_regularization=False, use_dropout=False):\n",
        "  model = Sequential()\n",
        "  model.add(embedding_layer)\n",
        "\n",
        "  if cell_type == 'rnn':\n",
        "    model.add(SimpleRNN(32))\n",
        "  elif cell_type == 'lstm':\n",
        "    model.add(layers.Bidirectional(layers.LSTM(32)))\n",
        "  elif cell_type == 'gru':\n",
        "    model.add(layers.Bidirectional(layers.GRU(32)))\n",
        "\n",
        "  if use_regularization:\n",
        "    model.add(Dense(y_train.shape[1], activation='sigmoid',\n",
        "      kernel_regularizer=regularizers.l1(0.001)))\n",
        "  if use_dropout:\n",
        "    model.add(Dropout(0.5))\n",
        "\n",
        "  model.add(Dense(y_train.shape[1], activation='sigmoid'))\n",
        "  model.compile(optimizer='adam', loss='binary_crossentropy', metrics=[Precision(), Recall(), BinaryAccuracy()])\n",
        "  return model"
      ],
      "metadata": {
        "id": "A54b-I0Bxt6S"
      },
      "execution_count": null,
      "outputs": []
    },
    {
      "cell_type": "markdown",
      "source": [
        "# Model-Positive"
      ],
      "metadata": {
        "id": "0RM1kNfm_06b"
      }
    },
    {
      "cell_type": "markdown",
      "source": [
        "A. RNN"
      ],
      "metadata": {
        "id": "v0SJyZO5qROD"
      }
    },
    {
      "cell_type": "code",
      "source": [
        "model = build_model(cell_type='rnn')\n",
        "history_A = model.fit(x_train, y_train, epochs=30, batch_size=32, validation_split=0.1, verbose=0)\n",
        "best_epoch_A = history_A.history['val_loss'].index(min(history_A.history['val_loss']))\n",
        "print('最佳訓練次數：', best_epoch_A+1)"
      ],
      "metadata": {
        "id": "gCeF5-iv_eAN",
        "colab": {
          "base_uri": "https://localhost:8080/"
        },
        "outputId": "516c5a08-b8eb-4966-c34c-1723aae4f827"
      },
      "execution_count": null,
      "outputs": [
        {
          "output_type": "stream",
          "name": "stdout",
          "text": [
            "最佳訓練次數： 15\n"
          ]
        }
      ]
    },
    {
      "cell_type": "code",
      "source": [
        "loss = history_A.history['loss']\n",
        "val_loss_values = history_A.history['val_loss']\n",
        "epochs = range(1, len(val_loss_values)+1)\n",
        "plt.plot(epochs, loss, 'bo', label='Training loss')\n",
        "plt.plot(epochs, val_loss_values, 'b', label='Validation Loss')\n",
        "plt.xlabel('Epochs')\n",
        "plt.ylabel('Loss')\n",
        "plt.title('Training and validation loss')\n",
        "plt.legend()\n",
        "plt.show()"
      ],
      "metadata": {
        "colab": {
          "base_uri": "https://localhost:8080/",
          "height": 472
        },
        "id": "JOkyLAWBnwDs",
        "outputId": "1d8a4c85-ffdc-4630-ae90-04ba0ada9e3e"
      },
      "execution_count": null,
      "outputs": [
        {
          "output_type": "display_data",
          "data": {
            "text/plain": [
              "<Figure size 640x480 with 1 Axes>"
            ],
            "image/png": "[encoded data removed]"
          },
          "metadata": {}
        }
      ]
    },
    {
      "cell_type": "code",
      "source": [
        "model = build_model(cell_type='rnn')\n",
        "model.fit(x_train, y_train, epochs=best_epoch_A+1, batch_size=32, verbose=0)\n",
        "results_A = model.evaluate(x_test, y_test)\n",
        "y_pred_prob = model.predict(x_test)\n",
        "y_pred = (y_pred_prob>0.5).astype(int)\n",
        "micro_A = f1_score(y_test, y_pred, average='micro')\n",
        "macro_A = f1_score(y_test, y_pred, average='macro')\n",
        "print('Micro', f1_score(y_test, y_pred, average='micro'))\n",
        "print('Macro', f1_score(y_test, y_pred, average='macro'))\n",
        "print(classification_report(y_test, y_pred, target_names=[str(x) for x in mlb.classes_]))"
      ],
      "metadata": {
        "colab": {
          "base_uri": "https://localhost:8080/"
        },
        "id": "MGpYtqnXqW7G",
        "outputId": "9aa6fe0b-8ece-418f-9d1f-5194d3b87ed3"
      },
      "execution_count": null,
      "outputs": [
        {
          "output_type": "stream",
          "name": "stdout",
          "text": [
            "\u001b[1m12/12\u001b[0m \u001b[32m━━━━━━━━━━━━━━━━━━━━\u001b[0m\u001b[37m\u001b[0m \u001b[1m1s\u001b[0m 46ms/step - binary_accuracy: 0.7841 - loss: 0.5041 - precision_25: 0.8300 - recall_25: 0.8432\n",
            "\u001b[1m12/12\u001b[0m \u001b[32m━━━━━━━━━━━━━━━━━━━━\u001b[0m\u001b[37m\u001b[0m \u001b[1m1s\u001b[0m 51ms/step\n",
            "Micro 0.8385772913816689\n",
            "Macro 0.6304970382668224\n",
            "              precision    recall  f1-score   support\n",
            "\n",
            "           0       0.62      0.05      0.09       109\n",
            "           1       0.78      0.98      0.87       288\n",
            "           2       0.88      0.99      0.94       327\n",
            "\n",
            "   micro avg       0.83      0.85      0.84       724\n",
            "   macro avg       0.76      0.67      0.63       724\n",
            "weighted avg       0.80      0.85      0.78       724\n",
            " samples avg       0.83      0.85      0.84       724\n",
            "\n"
          ]
        }
      ]
    },
    {
      "cell_type": "markdown",
      "source": [
        "B. Bidirection LSTM"
      ],
      "metadata": {
        "id": "ztV0BhEwqXTf"
      }
    },
    {
      "cell_type": "code",
      "source": [
        "model = build_model(cell_type='lstm')\n",
        "history_B = model.fit(x_train, y_train, epochs=30, batch_size=32, validation_split=0.1, verbose=0)\n",
        "best_epoch_B = history_B.history['val_loss'].index(min(history_B.history['val_loss']))\n",
        "print('最佳訓練次數：', best_epoch_B+1)"
      ],
      "metadata": {
        "id": "HyfTT63yN7j1",
        "colab": {
          "base_uri": "https://localhost:8080/"
        },
        "outputId": "dd7561b8-4b59-4608-9244-228d8ce95725"
      },
      "execution_count": null,
      "outputs": [
        {
          "output_type": "stream",
          "name": "stdout",
          "text": [
            "最佳訓練次數： 3\n"
          ]
        }
      ]
    },
    {
      "cell_type": "code",
      "source": [
        "loss = history_B.history['loss']\n",
        "val_loss_values = history_B.history['val_loss']\n",
        "epochs = range(1, len(val_loss_values)+1)\n",
        "plt.plot(epochs, loss, 'bo', label='Training loss')\n",
        "plt.plot(epochs, val_loss_values, 'b', label='Validation Loss')\n",
        "plt.xlabel('Epochs')\n",
        "plt.ylabel('Loss')\n",
        "plt.title('Training and validation loss')\n",
        "plt.legend()\n",
        "plt.show()"
      ],
      "metadata": {
        "colab": {
          "base_uri": "https://localhost:8080/",
          "height": 472
        },
        "id": "mWDbvlnLvC__",
        "outputId": "3e18e0f2-6604-4dd9-b177-ca7004b12acf"
      },
      "execution_count": null,
      "outputs": [
        {
          "output_type": "display_data",
          "data": {
            "text/plain": [
              "<Figure size 640x480 with 1 Axes>"
            ],
            "image/png": "[encoded data removed]"
          },
          "metadata": {}
        }
      ]
    },
    {
      "cell_type": "code",
      "source": [
        "model = build_model(cell_type='lstm')\n",
        "model.fit(x_train, y_train, epochs=best_epoch_B+1, batch_size=32, verbose=0)\n",
        "results_B = model.evaluate(x_test, y_test)\n",
        "y_pred_prob = model.predict(x_test)\n",
        "y_pred = (y_pred_prob>0.5).astype(int)\n",
        "micro_B = f1_score(y_test, y_pred, average='micro')\n",
        "macro_B = f1_score(y_test, y_pred, average='macro')\n",
        "print('Micro', f1_score(y_test, y_pred, average='micro'))\n",
        "print('Macro', f1_score(y_test, y_pred, average='macro'))\n",
        "print(classification_report(y_test, y_pred, target_names=[str(x) for x in mlb.classes_]))"
      ],
      "metadata": {
        "colab": {
          "base_uri": "https://localhost:8080/"
        },
        "id": "eAfzvFfSwsDx",
        "outputId": "2974a254-760b-45e5-be40-5eaaf38353e6"
      },
      "execution_count": null,
      "outputs": [
        {
          "output_type": "stream",
          "name": "stdout",
          "text": [
            "\u001b[1m12/12\u001b[0m \u001b[32m━━━━━━━━━━━━━━━━━━━━\u001b[0m\u001b[37m\u001b[0m \u001b[1m1s\u001b[0m 11ms/step - binary_accuracy: 0.7949 - loss: 0.5748 - precision_23: 0.8327 - recall_23: 0.8596\n",
            "\u001b[1m12/12\u001b[0m \u001b[32m━━━━━━━━━━━━━━━━━━━━\u001b[0m\u001b[37m\u001b[0m \u001b[1m0s\u001b[0m 24ms/step\n",
            "Micro 0.8445349626612356\n",
            "Macro 0.7783350425535837\n",
            "              precision    recall  f1-score   support\n",
            "\n",
            "           0       0.54      0.55      0.54       109\n",
            "           1       0.86      0.88      0.87       288\n",
            "           2       0.90      0.94      0.92       327\n",
            "\n",
            "   micro avg       0.83      0.86      0.84       724\n",
            "   macro avg       0.77      0.79      0.78       724\n",
            "weighted avg       0.83      0.86      0.84       724\n",
            " samples avg       0.83      0.86      0.84       724\n",
            "\n"
          ]
        }
      ]
    },
    {
      "cell_type": "markdown",
      "source": [
        "C. Bidirection GRU"
      ],
      "metadata": {
        "id": "g2F1qVeNqa06"
      }
    },
    {
      "cell_type": "code",
      "source": [
        "model = build_model(cell_type='gru')\n",
        "history_C = model.fit(x_train, y_train, epochs=30, batch_size=32, validation_split=0.1, verbose=0)\n",
        "best_epoch_C = history_C.history['val_loss'].index(min(history_C.history['val_loss']))\n",
        "print('最佳訓練次數：', best_epoch_C+1)"
      ],
      "metadata": {
        "id": "dehTQNAswRc5",
        "colab": {
          "base_uri": "https://localhost:8080/"
        },
        "outputId": "7e0af75e-f217-4d4f-b178-6777f488de3e"
      },
      "execution_count": null,
      "outputs": [
        {
          "output_type": "stream",
          "name": "stdout",
          "text": [
            "最佳訓練次數： 2\n"
          ]
        }
      ]
    },
    {
      "cell_type": "code",
      "source": [
        "loss = history_C.history['loss']\n",
        "val_loss_values = history_C.history['val_loss']\n",
        "epochs = range(1, len(val_loss_values)+1)\n",
        "plt.plot(epochs, loss, 'bo', label='Training loss')\n",
        "plt.plot(epochs, val_loss_values, 'b', label='Validation Loss')\n",
        "plt.xlabel('Epochs')\n",
        "plt.ylabel('Loss')\n",
        "plt.title('Training and validation loss')\n",
        "plt.legend()\n",
        "plt.show()"
      ],
      "metadata": {
        "id": "2lfy1Nh2ssLW",
        "colab": {
          "base_uri": "https://localhost:8080/",
          "height": 472
        },
        "outputId": "79a15094-69be-492e-af5b-4ed33833baed"
      },
      "execution_count": null,
      "outputs": [
        {
          "output_type": "display_data",
          "data": {
            "text/plain": [
              "<Figure size 640x480 with 1 Axes>"
            ],
            "image/png": "[encoded data removed]"
          },
          "metadata": {}
        }
      ]
    },
    {
      "cell_type": "code",
      "source": [
        "model = build_model(cell_type='gru')\n",
        "model.fit(x_train, y_train, epochs=best_epoch_C+1, batch_size=32, verbose=0)\n",
        "results_C = model.evaluate(x_test, y_test)\n",
        "y_pred_prob = model.predict(x_test)\n",
        "y_pred = (y_pred_prob>0.5).astype(int)\n",
        "micro_C = f1_score(y_test, y_pred, average='micro')\n",
        "macro_C = f1_score(y_test, y_pred, average='macro')\n",
        "print('Micro', f1_score(y_test, y_pred, average='micro'))\n",
        "print('Macro', f1_score(y_test, y_pred, average='macro'))\n",
        "print(classification_report(y_test, y_pred, target_names=[str(x) for x in mlb.classes_]))"
      ],
      "metadata": {
        "colab": {
          "base_uri": "https://localhost:8080/"
        },
        "id": "2VtPwbHfqfuC",
        "outputId": "c646c43d-b483-4d8e-a221-cbc4ce467056"
      },
      "execution_count": null,
      "outputs": [
        {
          "output_type": "stream",
          "name": "stdout",
          "text": [
            "\u001b[1m12/12\u001b[0m \u001b[32m━━━━━━━━━━━━━━━━━━━━\u001b[0m\u001b[37m\u001b[0m \u001b[1m1s\u001b[0m 12ms/step - binary_accuracy: 0.7923 - loss: 0.5131 - precision_27: 0.8224 - recall_27: 0.8711\n",
            "\u001b[1m12/12\u001b[0m \u001b[32m━━━━━━━━━━━━━━━━━━━━\u001b[0m\u001b[37m\u001b[0m \u001b[1m0s\u001b[0m 23ms/step\n",
            "Micro 0.8475935828877005\n",
            "Macro 0.7852018508267924\n",
            "              precision    recall  f1-score   support\n",
            "\n",
            "           0       0.54      0.60      0.57       109\n",
            "           1       0.86      0.84      0.85       288\n",
            "           2       0.88      1.00      0.94       327\n",
            "\n",
            "   micro avg       0.82      0.88      0.85       724\n",
            "   macro avg       0.76      0.81      0.79       724\n",
            "weighted avg       0.82      0.88      0.85       724\n",
            " samples avg       0.83      0.88      0.85       724\n",
            "\n"
          ]
        }
      ]
    },
    {
      "cell_type": "markdown",
      "source": [
        "A, B, C 模型比較"
      ],
      "metadata": {
        "id": "ZYhb9ODm0ANQ"
      }
    },
    {
      "cell_type": "code",
      "source": [
        "model_names = ['A', 'B', 'C']\n",
        "testing_loss_values = [results_A[0], results_B[0], results_C[0]]\n",
        "testing_micro = [micro_A, micro_B, micro_C]\n",
        "testing_macro = [macro_A, macro_B, macro_C]\n",
        "\n",
        "df = pd.DataFrame({'Model': model_names,\n",
        "          'Testing Loss': testing_loss_values,\n",
        "          'Testing micro': testing_micro,\n",
        "          'Testing macro': testing_macro})\n",
        "print(df)"
      ],
      "metadata": {
        "id": "CMCSJjmEz-z0",
        "colab": {
          "base_uri": "https://localhost:8080/"
        },
        "outputId": "80c053f3-4763-4447-d7a7-2dd6ebad6fbf"
      },
      "execution_count": null,
      "outputs": [
        {
          "output_type": "stream",
          "name": "stdout",
          "text": [
            "  Model  Testing Loss  Testing micro  Testing macro\n",
            "0     A      0.502236       0.838577       0.630497\n",
            "1     B      0.588754       0.844535       0.778335\n",
            "2     C      0.516547       0.847594       0.785202\n"
          ]
        }
      ]
    },
    {
      "cell_type": "markdown",
      "source": [
        "D. GRU + L1"
      ],
      "metadata": {
        "id": "10wOnUeXQ0ay"
      }
    },
    {
      "cell_type": "code",
      "source": [
        "model = build_model(cell_type='gru', use_regularization=True)\n",
        "history_D = model.fit(x_train, y_train, epochs=30, batch_size=32, validation_split=0.1, verbose=0)\n",
        "best_epoch_D = history_D.history['val_loss'].index(min(history_D.history['val_loss']))\n",
        "print('最佳訓練次數：', best_epoch_D+1)"
      ],
      "metadata": {
        "colab": {
          "base_uri": "https://localhost:8080/"
        },
        "id": "gkQ-79s2Qwz8",
        "outputId": "67c7ca11-4e1f-49bf-90f7-a49aced120c1"
      },
      "execution_count": null,
      "outputs": [
        {
          "output_type": "stream",
          "name": "stdout",
          "text": [
            "最佳訓練次數： 30\n"
          ]
        }
      ]
    },
    {
      "cell_type": "code",
      "source": [
        "loss = history_D.history['loss']\n",
        "val_loss_values = history_D.history['val_loss']\n",
        "epochs = range(1, len(val_loss_values)+1)\n",
        "plt.plot(epochs, loss, 'bo', label='Training loss')\n",
        "plt.plot(epochs, val_loss_values, 'b', label='Validation Loss')\n",
        "plt.xlabel('Epochs')\n",
        "plt.ylabel('Loss')\n",
        "plt.title('Training and validation loss')\n",
        "plt.legend()\n",
        "plt.show()"
      ],
      "metadata": {
        "colab": {
          "base_uri": "https://localhost:8080/",
          "height": 472
        },
        "id": "25IEU-SQG8Vm",
        "outputId": "34f72533-0fc0-4d4a-d702-253437425c5b"
      },
      "execution_count": null,
      "outputs": [
        {
          "output_type": "display_data",
          "data": {
            "text/plain": [
              "<Figure size 640x480 with 1 Axes>"
            ],
            "image/png": "[encoded data removed]"
          },
          "metadata": {}
        }
      ]
    },
    {
      "cell_type": "code",
      "source": [
        "model = build_model(cell_type='gru', use_regularization=True)\n",
        "model.fit(x_train, y_train, epochs=best_epoch_D+1, batch_size=32, verbose=0)\n",
        "results_D = model.evaluate(x_test, y_test)\n",
        "y_pred_prob = model.predict(x_test)\n",
        "y_pred = (y_pred_prob>0.5).astype(int)\n",
        "micro_D = f1_score(y_test, y_pred, average='micro')\n",
        "macro_D = f1_score(y_test, y_pred, average='macro')\n",
        "print('Micro', f1_score(y_test, y_pred, average='micro'))\n",
        "print('Macro', f1_score(y_test, y_pred, average='macro'))\n",
        "print(classification_report(y_test, y_pred, target_names=[str(x) for x in mlb.classes_]))"
      ],
      "metadata": {
        "colab": {
          "base_uri": "https://localhost:8080/"
        },
        "id": "7AtPcHB6Q3lc",
        "outputId": "930f0325-9217-4d7b-8ffb-78c337008378"
      },
      "execution_count": null,
      "outputs": [
        {
          "output_type": "stream",
          "name": "stdout",
          "text": [
            "\u001b[1m12/12\u001b[0m \u001b[32m━━━━━━━━━━━━━━━━━━━━\u001b[0m\u001b[37m\u001b[0m \u001b[1m1s\u001b[0m 11ms/step - binary_accuracy: 0.7846 - loss: 0.5372 - precision_35: 0.8111 - recall_35: 0.8753\n",
            "\u001b[1m12/12\u001b[0m \u001b[32m━━━━━━━━━━━━━━━━━━━━\u001b[0m\u001b[37m\u001b[0m \u001b[1m0s\u001b[0m 23ms/step\n",
            "Micro 0.8425925925925926\n",
            "Macro 0.7709076481026497\n",
            "              precision    recall  f1-score   support\n",
            "\n",
            "           0       0.50      0.54      0.52       109\n",
            "           1       0.83      0.87      0.85       288\n",
            "           2       0.88      1.00      0.94       327\n",
            "\n",
            "   micro avg       0.81      0.88      0.84       724\n",
            "   macro avg       0.74      0.80      0.77       724\n",
            "weighted avg       0.81      0.88      0.84       724\n",
            " samples avg       0.82      0.88      0.84       724\n",
            "\n"
          ]
        }
      ]
    },
    {
      "cell_type": "markdown",
      "source": [
        "E. GRU + Dropout"
      ],
      "metadata": {
        "id": "9jDFwRpFRBgS"
      }
    },
    {
      "cell_type": "code",
      "source": [
        "model = build_model(cell_type='gru', use_dropout=True)\n",
        "history_E = model.fit(x_train, y_train, epochs=30, batch_size=32, validation_split=0.1, verbose=0)\n",
        "best_epoch_E = history_E.history['val_loss'].index(min(history_E.history['val_loss']))\n",
        "print('最佳訓練次數：', best_epoch_E+1)"
      ],
      "metadata": {
        "colab": {
          "base_uri": "https://localhost:8080/"
        },
        "id": "3yeee0yKRFc7",
        "outputId": "6e20cf2d-e7f4-4263-c4e7-1735ebb5a0ba"
      },
      "execution_count": null,
      "outputs": [
        {
          "output_type": "stream",
          "name": "stdout",
          "text": [
            "最佳訓練次數： 4\n"
          ]
        }
      ]
    },
    {
      "cell_type": "code",
      "source": [
        "loss = history_E.history['loss']\n",
        "val_loss_values = history_E.history['val_loss']\n",
        "epochs = range(1, len(val_loss_values)+1)\n",
        "plt.plot(epochs, loss, 'bo', label='Training loss')\n",
        "plt.plot(epochs, val_loss_values, 'b', label='Validation Loss')\n",
        "plt.xlabel('Epochs')\n",
        "plt.ylabel('Loss')\n",
        "plt.title('Training and validation loss')\n",
        "plt.legend()\n",
        "plt.show()"
      ],
      "metadata": {
        "colab": {
          "base_uri": "https://localhost:8080/",
          "height": 472
        },
        "id": "gKZDA1N4HRh6",
        "outputId": "c0272ffa-8496-4831-b804-86f688d69fca"
      },
      "execution_count": null,
      "outputs": [
        {
          "output_type": "display_data",
          "data": {
            "text/plain": [
              "<Figure size 640x480 with 1 Axes>"
            ],
            "image/png": "[encoded data removed]"
          },
          "metadata": {}
        }
      ]
    },
    {
      "cell_type": "code",
      "source": [
        "model = build_model(cell_type='gru', use_dropout=True)\n",
        "model.fit(x_train, y_train, epochs=best_epoch_E+1, batch_size=32, verbose=0)\n",
        "results_E = model.evaluate(x_test, y_test)\n",
        "y_pred_prob = model.predict(x_test)\n",
        "y_pred = (y_pred_prob>0.5).astype(int)\n",
        "micro_E = f1_score(y_test, y_pred, average='micro')\n",
        "macro_E = f1_score(y_test, y_pred, average='macro')\n",
        "print('Micro', f1_score(y_test, y_pred, average='micro'))\n",
        "print('Macro', f1_score(y_test, y_pred, average='macro'))\n",
        "print(classification_report(y_test, y_pred, target_names=[str(x) for x in mlb.classes_]))"
      ],
      "metadata": {
        "colab": {
          "base_uri": "https://localhost:8080/"
        },
        "id": "45QL2KbBRKQj",
        "outputId": "983261b6-6407-4df6-a145-92b5b523b4bf"
      },
      "execution_count": null,
      "outputs": [
        {
          "output_type": "stream",
          "name": "stdout",
          "text": [
            "\u001b[1m12/12\u001b[0m \u001b[32m━━━━━━━━━━━━━━━━━━━━\u001b[0m\u001b[37m\u001b[0m \u001b[1m1s\u001b[0m 11ms/step - binary_accuracy: 0.7620 - loss: 0.6972 - precision_33: 0.8132 - recall_33: 0.8265\n",
            "\u001b[1m12/12\u001b[0m \u001b[32m━━━━━━━━━━━━━━━━━━━━\u001b[0m\u001b[37m\u001b[0m \u001b[1m0s\u001b[0m 25ms/step\n",
            "Micro 0.8177474402730376\n",
            "Macro 0.7562026229233808\n",
            "              precision    recall  f1-score   support\n",
            "\n",
            "           0       0.49      0.57      0.53       109\n",
            "           1       0.84      0.83      0.84       288\n",
            "           2       0.90      0.91      0.91       327\n",
            "\n",
            "   micro avg       0.81      0.83      0.82       724\n",
            "   macro avg       0.74      0.77      0.76       724\n",
            "weighted avg       0.82      0.83      0.82       724\n",
            " samples avg       0.81      0.83      0.82       724\n",
            "\n"
          ]
        }
      ]
    },
    {
      "cell_type": "markdown",
      "source": [
        "C, D, E 模型比較"
      ],
      "metadata": {
        "id": "XuqKmPyXJSd1"
      }
    },
    {
      "cell_type": "code",
      "source": [
        "model_names = ['C', 'D', 'E']\n",
        "testing_loss_values = [results_C[0], results_D[0], results_E[0]]\n",
        "testing_micro = [micro_C, micro_D, micro_E]\n",
        "testing_macro = [macro_C, macro_D, macro_E]\n",
        "\n",
        "df = pd.DataFrame({'Model': model_names,\n",
        "          'Testing Loss': testing_loss_values,\n",
        "          'Testing micro': testing_micro,\n",
        "          'Testing macro': testing_macro})\n",
        "print(df)"
      ],
      "metadata": {
        "id": "4uPEJB32JSG9",
        "colab": {
          "base_uri": "https://localhost:8080/"
        },
        "outputId": "d9e213bd-0e93-4ffb-868a-514f022472ae"
      },
      "execution_count": null,
      "outputs": [
        {
          "output_type": "stream",
          "name": "stdout",
          "text": [
            "  Model  Testing Loss  Testing micro  Testing macro\n",
            "0     C      0.516547       0.847594       0.785202\n",
            "1     D      0.536545       0.842593       0.770908\n",
            "2     E      0.709919       0.817747       0.756203\n"
          ]
        }
      ]
    },
    {
      "cell_type": "markdown",
      "source": [
        "# Model-Negative"
      ],
      "metadata": {
        "id": "VzsPndF8AFMX"
      }
    },
    {
      "cell_type": "markdown",
      "source": [
        "A. RNN"
      ],
      "metadata": {
        "id": "ADsaQ3nkASeY"
      }
    },
    {
      "cell_type": "code",
      "source": [
        "model = build_model(cell_type='rnn')\n",
        "history_A = model.fit(x_train, y_train, epochs=30, batch_size=32, validation_split=0.1, verbose=0)\n",
        "best_epoch_A = history_A.history['val_loss'].index(min(history_A.history['val_loss']))\n",
        "print('最佳訓練次數：', best_epoch_A+1)"
      ],
      "metadata": {
        "colab": {
          "base_uri": "https://localhost:8080/"
        },
        "id": "u-BSOa34AJ6I",
        "outputId": "cc810857-86fa-4abd-8c34-309cd99dea6c"
      },
      "execution_count": null,
      "outputs": [
        {
          "output_type": "stream",
          "name": "stdout",
          "text": [
            "最佳訓練次數： 30\n"
          ]
        }
      ]
    },
    {
      "cell_type": "code",
      "source": [
        "loss = history_A.history['loss']\n",
        "val_loss_values = history_A.history['val_loss']\n",
        "epochs = range(1, len(val_loss_values)+1)\n",
        "plt.plot(epochs, loss, 'bo', label='Training loss')\n",
        "plt.plot(epochs, val_loss_values, 'b', label='Validation Loss')\n",
        "plt.xlabel('Epochs')\n",
        "plt.ylabel('Loss')\n",
        "plt.title('Training and validation loss')\n",
        "plt.legend()\n",
        "plt.show()"
      ],
      "metadata": {
        "colab": {
          "base_uri": "https://localhost:8080/",
          "height": 472
        },
        "id": "NNX4X8HZAPw3",
        "outputId": "5dc5a343-4734-4b09-e3ec-d7b39c99483c"
      },
      "execution_count": null,
      "outputs": [
        {
          "output_type": "display_data",
          "data": {
            "text/plain": [
              "<Figure size 640x480 with 1 Axes>"
            ],
            "image/png": "[encoded data removed]"
          },
          "metadata": {}
        }
      ]
    },
    {
      "cell_type": "code",
      "source": [
        "model = build_model(cell_type='rnn')\n",
        "model.fit(x_train, y_train, epochs=best_epoch_A+1, batch_size=32, verbose=0)\n",
        "results_A = model.evaluate(x_test, y_test)\n",
        "y_pred_prob = model.predict(x_test)\n",
        "y_pred = (y_pred_prob>0.5).astype(int)\n",
        "micro_A = f1_score(y_test, y_pred, average='micro')\n",
        "macro_A = f1_score(y_test, y_pred, average='macro')\n",
        "print('Micro', f1_score(y_test, y_pred, average='micro'))\n",
        "print('Macro', f1_score(y_test, y_pred, average='macro'))\n",
        "print(classification_report(y_test, y_pred, target_names=[str(x) for x in mlb.classes_]))"
      ],
      "metadata": {
        "colab": {
          "base_uri": "https://localhost:8080/"
        },
        "id": "iTTtafD8AQpC",
        "outputId": "e3806b3a-d729-4fcf-bea6-6a9bed183591"
      },
      "execution_count": null,
      "outputs": [
        {
          "output_type": "stream",
          "name": "stdout",
          "text": [
            "\u001b[1m11/11\u001b[0m \u001b[32m━━━━━━━━━━━━━━━━━━━━\u001b[0m\u001b[37m\u001b[0m \u001b[1m1s\u001b[0m 51ms/step - binary_accuracy: 0.8042 - loss: 0.4874 - precision_43: 0.7937 - recall_43: 0.8076\n",
            "\u001b[1m11/11\u001b[0m \u001b[32m━━━━━━━━━━━━━━━━━━━━\u001b[0m\u001b[37m\u001b[0m \u001b[1m1s\u001b[0m 40ms/step\n",
            "Micro 0.790314769975787\n",
            "Macro 0.45178959392884216\n",
            "              precision    recall  f1-score   support\n",
            "\n",
            "           0       0.33      0.01      0.03        72\n",
            "           1       0.75      1.00      0.85       259\n",
            "           2       0.20      0.01      0.03        69\n",
            "           3       0.75      0.97      0.85       263\n",
            "           4       0.86      0.99      0.92       303\n",
            "           5       0.33      0.02      0.03        56\n",
            "\n",
            "   micro avg       0.78      0.80      0.79      1022\n",
            "   macro avg       0.54      0.50      0.45      1022\n",
            "weighted avg       0.69      0.80      0.71      1022\n",
            " samples avg       0.78      0.80      0.79      1022\n",
            "\n"
          ]
        }
      ]
    },
    {
      "cell_type": "markdown",
      "source": [
        "B. Bidirection LSTM"
      ],
      "metadata": {
        "id": "mXEkFkdYAT6b"
      }
    },
    {
      "cell_type": "code",
      "source": [
        "model = build_model(cell_type='lstm')\n",
        "history_B = model.fit(x_train, y_train, epochs=30, batch_size=32, validation_split=0.1, verbose=0)\n",
        "best_epoch_B = history_B.history['val_loss'].index(min(history_B.history['val_loss']))\n",
        "print('最佳訓練次數：', best_epoch_B+1)"
      ],
      "metadata": {
        "colab": {
          "base_uri": "https://localhost:8080/"
        },
        "id": "sh6JUYusAXYh",
        "outputId": "9e5efefc-28dc-4792-97ef-a86be476435f"
      },
      "execution_count": null,
      "outputs": [
        {
          "output_type": "stream",
          "name": "stdout",
          "text": [
            "最佳訓練次數： 4\n"
          ]
        }
      ]
    },
    {
      "cell_type": "code",
      "source": [
        "loss = history_B.history['loss']\n",
        "val_loss_values = history_B.history['val_loss']\n",
        "epochs = range(1, len(val_loss_values)+1)\n",
        "plt.plot(epochs, loss, 'bo', label='Training loss')\n",
        "plt.plot(epochs, val_loss_values, 'b', label='Validation Loss')\n",
        "plt.xlabel('Epochs')\n",
        "plt.ylabel('Loss')\n",
        "plt.title('Training and validation loss')\n",
        "plt.legend()\n",
        "plt.show()"
      ],
      "metadata": {
        "colab": {
          "base_uri": "https://localhost:8080/",
          "height": 472
        },
        "id": "vqyi-BbmAYFw",
        "outputId": "f5ff47d4-7013-4720-b638-7b59b400ecdc"
      },
      "execution_count": null,
      "outputs": [
        {
          "output_type": "display_data",
          "data": {
            "text/plain": [
              "<Figure size 640x480 with 1 Axes>"
            ],
            "image/png": "[encoded data removed]"
          },
          "metadata": {}
        }
      ]
    },
    {
      "cell_type": "code",
      "source": [
        "model = build_model(cell_type='lstm')\n",
        "model.fit(x_train, y_train, epochs=best_epoch_B+1, batch_size=32, verbose=0)\n",
        "results_B = model.evaluate(x_test, y_test)\n",
        "y_pred_prob = model.predict(x_test)\n",
        "y_pred = (y_pred_prob>0.5).astype(int)\n",
        "micro_B = f1_score(y_test, y_pred, average='micro')\n",
        "macro_B = f1_score(y_test, y_pred, average='macro')\n",
        "print('Micro', f1_score(y_test, y_pred, average='micro'))\n",
        "print('Macro', f1_score(y_test, y_pred, average='macro'))\n",
        "print(classification_report(y_test, y_pred, target_names=[str(x) for x in mlb.classes_]))"
      ],
      "metadata": {
        "colab": {
          "base_uri": "https://localhost:8080/"
        },
        "id": "NrqTYepIHkZb",
        "outputId": "27781039-8103-458b-f7d2-19f3b4ee9c68"
      },
      "execution_count": null,
      "outputs": [
        {
          "output_type": "stream",
          "name": "stdout",
          "text": [
            "\u001b[1m11/11\u001b[0m \u001b[32m━━━━━━━━━━━━━━━━━━━━\u001b[0m\u001b[37m\u001b[0m \u001b[1m1s\u001b[0m 12ms/step - binary_accuracy: 0.7888 - loss: 0.5593 - precision_39: 0.7874 - recall_39: 0.7755\n",
            "\u001b[1m11/11\u001b[0m \u001b[32m━━━━━━━━━━━━━━━━━━━━\u001b[0m\u001b[37m\u001b[0m \u001b[1m0s\u001b[0m 28ms/step\n",
            "Micro 0.7775590551181102\n",
            "Macro 0.49696363355888856\n",
            "              precision    recall  f1-score   support\n",
            "\n",
            "           0       0.50      0.07      0.12        72\n",
            "           1       0.76      0.93      0.84       259\n",
            "           2       0.37      0.10      0.16        69\n",
            "           3       0.76      0.92      0.83       263\n",
            "           4       0.88      0.96      0.92       303\n",
            "           5       0.25      0.07      0.11        56\n",
            "\n",
            "   micro avg       0.78      0.77      0.78      1022\n",
            "   macro avg       0.59      0.51      0.50      1022\n",
            "weighted avg       0.72      0.77      0.72      1022\n",
            " samples avg       0.79      0.77      0.77      1022\n",
            "\n"
          ]
        }
      ]
    },
    {
      "cell_type": "markdown",
      "source": [
        "C. Bidirection GRU"
      ],
      "metadata": {
        "id": "I10ZYPLlAfeL"
      }
    },
    {
      "cell_type": "code",
      "source": [
        "model = build_model(cell_type='gru')\n",
        "history_C = model.fit(x_train, y_train, epochs=30, batch_size=32, validation_split=0.1, verbose=0)\n",
        "best_epoch_C = history_C.history['val_loss'].index(min(history_C.history['val_loss']))\n",
        "print('最佳訓練次數：', best_epoch_C+1)"
      ],
      "metadata": {
        "id": "nVgdiXzyAi0X",
        "colab": {
          "base_uri": "https://localhost:8080/"
        },
        "outputId": "21a1f1ed-990e-42ea-ea8e-077d7868220f"
      },
      "execution_count": null,
      "outputs": [
        {
          "output_type": "stream",
          "name": "stdout",
          "text": [
            "最佳訓練次數： 3\n"
          ]
        }
      ]
    },
    {
      "cell_type": "code",
      "source": [
        "loss = history_C.history['loss']\n",
        "val_loss_values = history_C.history['val_loss']\n",
        "epochs = range(1, len(val_loss_values)+1)\n",
        "plt.plot(epochs, loss, 'bo', label='Training loss')\n",
        "plt.plot(epochs, val_loss_values, 'b', label='Validation Loss')\n",
        "plt.xlabel('Epochs')\n",
        "plt.ylabel('Loss')\n",
        "plt.title('Training and validation loss')\n",
        "plt.legend()\n",
        "plt.show()"
      ],
      "metadata": {
        "colab": {
          "base_uri": "https://localhost:8080/",
          "height": 472
        },
        "id": "rl7GZew8Akwr",
        "outputId": "58ea717b-37db-4088-f3b5-1484461d0d6f"
      },
      "execution_count": null,
      "outputs": [
        {
          "output_type": "display_data",
          "data": {
            "text/plain": [
              "<Figure size 640x480 with 1 Axes>"
            ],
            "image/png": "[encoded data removed]"
          },
          "metadata": {}
        }
      ]
    },
    {
      "cell_type": "code",
      "source": [
        "model = build_model(cell_type='gru')\n",
        "model.fit(x_train, y_train, epochs=best_epoch_C+1, batch_size=32, verbose=0)\n",
        "results_C = model.evaluate(x_test, y_test)\n",
        "y_pred_prob = model.predict(x_test)\n",
        "y_pred = (y_pred_prob>0.5).astype(int)\n",
        "micro_C = f1_score(y_test, y_pred, average='micro')\n",
        "macro_C = f1_score(y_test, y_pred, average='macro')\n",
        "print(classification_report(y_test, y_pred, target_names=[str(x) for x in mlb.classes_]))"
      ],
      "metadata": {
        "colab": {
          "base_uri": "https://localhost:8080/"
        },
        "id": "_2yfLgX3Hl62",
        "outputId": "10e1ef10-2683-4329-f073-42315806d2c2"
      },
      "execution_count": null,
      "outputs": [
        {
          "output_type": "stream",
          "name": "stdout",
          "text": [
            "\u001b[1m11/11\u001b[0m \u001b[32m━━━━━━━━━━━━━━━━━━━━\u001b[0m\u001b[37m\u001b[0m \u001b[1m1s\u001b[0m 17ms/step - binary_accuracy: 0.7912 - loss: 0.4789 - precision_41: 0.7815 - recall_41: 0.7926\n",
            "\u001b[1m11/11\u001b[0m \u001b[32m━━━━━━━━━━━━━━━━━━━━\u001b[0m\u001b[37m\u001b[0m \u001b[1m1s\u001b[0m 36ms/step\n",
            "              precision    recall  f1-score   support\n",
            "\n",
            "           0       0.17      0.03      0.05        72\n",
            "           1       0.77      0.96      0.85       259\n",
            "           2       0.29      0.12      0.16        69\n",
            "           3       0.76      0.95      0.85       263\n",
            "           4       0.88      0.98      0.93       303\n",
            "           5       0.33      0.05      0.09        56\n",
            "\n",
            "   micro avg       0.78      0.79      0.79      1022\n",
            "   macro avg       0.53      0.52      0.49      1022\n",
            "weighted avg       0.70      0.79      0.73      1022\n",
            " samples avg       0.78      0.79      0.78      1022\n",
            "\n"
          ]
        }
      ]
    },
    {
      "cell_type": "markdown",
      "source": [
        "A, B, C 模型比較"
      ],
      "metadata": {
        "id": "FqHs1enxHmns"
      }
    },
    {
      "cell_type": "code",
      "source": [
        "model_names = ['A', 'B', 'C']\n",
        "testing_loss_values = [results_A[0], results_B[0], results_C[0]]\n",
        "testing_micro = [micro_A, micro_B, micro_C]\n",
        "testing_macro = [macro_A, macro_B, macro_C]\n",
        "\n",
        "df = pd.DataFrame({'Model': model_names,\n",
        "          'Testing Loss': testing_loss_values,\n",
        "          'Testing micro': testing_micro,\n",
        "          'Testing macro': testing_macro})\n",
        "print(df)"
      ],
      "metadata": {
        "colab": {
          "base_uri": "https://localhost:8080/"
        },
        "id": "8sNggNaNHqlF",
        "outputId": "91141a00-2be2-4a9d-fc49-14e6d708b44d"
      },
      "execution_count": null,
      "outputs": [
        {
          "output_type": "stream",
          "name": "stdout",
          "text": [
            "  Model  Testing Loss  Testing micro  Testing macro\n",
            "0     A      0.502036       0.790315       0.451790\n",
            "1     B      0.578191       0.777559       0.496964\n",
            "2     C      0.485699       0.786026       0.489157\n"
          ]
        }
      ]
    },
    {
      "cell_type": "markdown",
      "source": [
        "D. RNN + L1"
      ],
      "metadata": {
        "id": "H_9fMAnQHmjw"
      }
    },
    {
      "cell_type": "code",
      "source": [
        "model = build_model(cell_type='rnn', use_regularization=True)\n",
        "history_D = model.fit(x_train, y_train, epochs=30, batch_size=32, validation_split=0.1, verbose=0)\n",
        "best_epoch_D = history_D.history['val_loss'].index(min(history_D.history['val_loss']))\n",
        "print('最佳訓練次數：', best_epoch_D+1)"
      ],
      "metadata": {
        "id": "jboIClQRH9tX",
        "colab": {
          "base_uri": "https://localhost:8080/"
        },
        "outputId": "7aef873a-8710-4781-9ebd-7c2922e45d87"
      },
      "execution_count": null,
      "outputs": [
        {
          "output_type": "stream",
          "name": "stdout",
          "text": [
            "最佳訓練次數： 30\n"
          ]
        }
      ]
    },
    {
      "cell_type": "code",
      "source": [
        "loss = history_D.history['loss']\n",
        "val_loss_values = history_D.history['val_loss']\n",
        "epochs = range(1, len(val_loss_values)+1)\n",
        "plt.plot(epochs, loss, 'bo', label='Training loss')\n",
        "plt.plot(epochs, val_loss_values, 'b', label='Validation Loss')\n",
        "plt.xlabel('Epochs')\n",
        "plt.ylabel('Loss')\n",
        "plt.title('Training and validation loss')\n",
        "plt.legend()\n",
        "plt.show()"
      ],
      "metadata": {
        "id": "eCagI-gXH_u5",
        "colab": {
          "base_uri": "https://localhost:8080/",
          "height": 472
        },
        "outputId": "f7dc2cf0-e66f-40c0-8eb7-12dc55368043"
      },
      "execution_count": null,
      "outputs": [
        {
          "output_type": "display_data",
          "data": {
            "text/plain": [
              "<Figure size 640x480 with 1 Axes>"
            ],
            "image/png": "[encoded data removed]"
          },
          "metadata": {}
        }
      ]
    },
    {
      "cell_type": "code",
      "source": [
        "model = build_model(cell_type='rnn', use_regularization=True)\n",
        "model.fit(x_train, y_train, epochs=best_epoch_D+1, batch_size=32, verbose=0)\n",
        "results_D = model.evaluate(x_test, y_test)\n",
        "y_pred_prob = model.predict(x_test)\n",
        "y_pred = (y_pred_prob>0.5).astype(int)\n",
        "micro_D = f1_score(y_test, y_pred, average='micro')\n",
        "macro_D = f1_score(y_test, y_pred, average='macro')\n",
        "print('Micro', f1_score(y_test, y_pred, average='micro'))\n",
        "print('Macro', f1_score(y_test, y_pred, average='macro'))\n",
        "print(classification_report(y_test, y_pred, target_names=[str(x) for x in mlb.classes_]))"
      ],
      "metadata": {
        "id": "DesQaxIDIBji",
        "colab": {
          "base_uri": "https://localhost:8080/"
        },
        "outputId": "2d5149f2-e773-46aa-86ea-cfac0132ee15"
      },
      "execution_count": null,
      "outputs": [
        {
          "output_type": "stream",
          "name": "stdout",
          "text": [
            "\u001b[1m11/11\u001b[0m \u001b[32m━━━━━━━━━━━━━━━━━━━━\u001b[0m\u001b[37m\u001b[0m \u001b[1m2s\u001b[0m 80ms/step - binary_accuracy: 0.8082 - loss: 0.4889 - precision_45: 0.7949 - recall_45: 0.8167\n",
            "\u001b[1m11/11\u001b[0m \u001b[32m━━━━━━━━━━━━━━━━━━━━\u001b[0m\u001b[37m\u001b[0m \u001b[1m1s\u001b[0m 64ms/step\n",
            "Micro 0.7963320463320464\n",
            "Macro 0.4394457092873005\n",
            "              precision    recall  f1-score   support\n",
            "\n",
            "           0       0.00      0.00      0.00        72\n",
            "           1       0.74      1.00      0.85       259\n",
            "           2       0.00      0.00      0.00        69\n",
            "           3       0.75      1.00      0.86       263\n",
            "           4       0.87      1.00      0.93       303\n",
            "           5       0.00      0.00      0.00        56\n",
            "\n",
            "   micro avg       0.79      0.81      0.80      1022\n",
            "   macro avg       0.39      0.50      0.44      1022\n",
            "weighted avg       0.64      0.81      0.71      1022\n",
            " samples avg       0.79      0.81      0.79      1022\n",
            "\n"
          ]
        },
        {
          "output_type": "stream",
          "name": "stderr",
          "text": [
            "/usr/local/lib/python3.11/dist-packages/sklearn/metrics/_classification.py:1565: UndefinedMetricWarning: Precision is ill-defined and being set to 0.0 in labels with no predicted samples. Use `zero_division` parameter to control this behavior.\n",
            "  _warn_prf(average, modifier, f\"{metric.capitalize()} is\", len(result))\n"
          ]
        }
      ]
    },
    {
      "cell_type": "markdown",
      "source": [
        "E. RNN + Dropout"
      ],
      "metadata": {
        "id": "O4l9QcTNH5Rd"
      }
    },
    {
      "cell_type": "code",
      "source": [
        "model = build_model(cell_type='rnn', use_dropout=True)\n",
        "history_E = model.fit(x_train, y_train, epochs=30, batch_size=32, validation_split=0.1, verbose=0)\n",
        "best_epoch_E = history_E.history['val_loss'].index(min(history_E.history['val_loss']))\n",
        "print('最佳訓練次數：', best_epoch_E+1)"
      ],
      "metadata": {
        "id": "Ln0vHV93IDNr",
        "colab": {
          "base_uri": "https://localhost:8080/"
        },
        "outputId": "7eee16d1-79b3-4ac1-c259-f756b6e5cead"
      },
      "execution_count": null,
      "outputs": [
        {
          "output_type": "stream",
          "name": "stdout",
          "text": [
            "最佳訓練次數： 26\n"
          ]
        }
      ]
    },
    {
      "cell_type": "code",
      "source": [
        "loss = history_E.history['loss']\n",
        "val_loss_values = history_E.history['val_loss']\n",
        "epochs = range(1, len(val_loss_values)+1)\n",
        "plt.plot(epochs, loss, 'bo', label='Training loss')\n",
        "plt.plot(epochs, val_loss_values, 'b', label='Validation Loss')\n",
        "plt.xlabel('Epochs')\n",
        "plt.ylabel('Loss')\n",
        "plt.title('Training and validation loss')\n",
        "plt.legend()\n",
        "plt.show()"
      ],
      "metadata": {
        "id": "xSdHDPoyIEFn",
        "colab": {
          "base_uri": "https://localhost:8080/",
          "height": 472
        },
        "outputId": "66363163-d674-4ad9-b2b0-2538e313aa8b"
      },
      "execution_count": null,
      "outputs": [
        {
          "output_type": "display_data",
          "data": {
            "text/plain": [
              "<Figure size 640x480 with 1 Axes>"
            ],
            "image/png": "[encoded data removed]"
          },
          "metadata": {}
        }
      ]
    },
    {
      "cell_type": "code",
      "source": [
        "model = build_model(cell_type='rnn', use_dropout=True)\n",
        "model.fit(x_train, y_train, epochs=best_epoch_E+1, batch_size=32, verbose=0)\n",
        "results_E = model.evaluate(x_test, y_test)\n",
        "y_pred_prob = model.predict(x_test)\n",
        "y_pred = (y_pred_prob>0.5).astype(int)\n",
        "micro_E = f1_score(y_test, y_pred, average='micro')\n",
        "macro_E = f1_score(y_test, y_pred, average='macro')\n",
        "print('Micro', f1_score(y_test, y_pred, average='micro'))\n",
        "print('Macro', f1_score(y_test, y_pred, average='macro'))\n",
        "print(classification_report(y_test, y_pred, target_names=[str(x) for x in mlb.classes_]))"
      ],
      "metadata": {
        "id": "6tMlFpj_IFKB",
        "colab": {
          "base_uri": "https://localhost:8080/"
        },
        "outputId": "f4fa7a14-1c04-4c06-ec0b-a024342b6b62"
      },
      "execution_count": null,
      "outputs": [
        {
          "output_type": "stream",
          "name": "stdout",
          "text": [
            "\u001b[1m11/11\u001b[0m \u001b[32m━━━━━━━━━━━━━━━━━━━━\u001b[0m\u001b[37m\u001b[0m \u001b[1m1s\u001b[0m 49ms/step - binary_accuracy: 0.8033 - loss: 0.4893 - precision_47: 0.7891 - recall_47: 0.8131\n",
            "\u001b[1m11/11\u001b[0m \u001b[32m━━━━━━━━━━━━━━━━━━━━\u001b[0m\u001b[37m\u001b[0m \u001b[1m1s\u001b[0m 42ms/step\n",
            "Micro 0.7903381642512077\n",
            "Macro 0.450017278438475\n",
            "              precision    recall  f1-score   support\n",
            "\n",
            "           0       0.43      0.04      0.08        72\n",
            "           1       0.75      1.00      0.85       259\n",
            "           2       0.00      0.00      0.00        69\n",
            "           3       0.75      0.98      0.85       263\n",
            "           4       0.86      0.99      0.92       303\n",
            "           5       0.00      0.00      0.00        56\n",
            "\n",
            "   micro avg       0.78      0.80      0.79      1022\n",
            "   macro avg       0.46      0.50      0.45      1022\n",
            "weighted avg       0.67      0.80      0.71      1022\n",
            " samples avg       0.78      0.80      0.79      1022\n",
            "\n"
          ]
        }
      ]
    },
    {
      "cell_type": "markdown",
      "source": [
        "A, D, E 模型比較"
      ],
      "metadata": {
        "id": "fLw3ex-TJbkt"
      }
    },
    {
      "cell_type": "code",
      "source": [
        "model_names = ['A', 'D', 'E']\n",
        "testing_loss_values = [results_A[0], results_D[0], results_E[0]]\n",
        "testing_micro = [micro_A, micro_D, micro_E]\n",
        "testing_macro = [macro_A, macro_D, macro_E]\n",
        "\n",
        "df = pd.DataFrame({'Model': model_names,\n",
        "          'Testing Loss': testing_loss_values,\n",
        "          'Testing micro': testing_micro,\n",
        "          'Testing macro': testing_macro})\n",
        "print(df)"
      ],
      "metadata": {
        "id": "COmm6aBAJbLd",
        "colab": {
          "base_uri": "https://localhost:8080/"
        },
        "outputId": "1a41a951-a563-49cd-c58f-4d57e2cba869"
      },
      "execution_count": null,
      "outputs": [
        {
          "output_type": "stream",
          "name": "stdout",
          "text": [
            "  Model  Testing Loss  Testing micro  Testing macro\n",
            "0     A      0.502036       0.790315       0.451790\n",
            "1     D      0.500357       0.796332       0.439446\n",
            "2     E      0.501498       0.790338       0.450017\n"
          ]
        }
      ]
    }
  ]
}